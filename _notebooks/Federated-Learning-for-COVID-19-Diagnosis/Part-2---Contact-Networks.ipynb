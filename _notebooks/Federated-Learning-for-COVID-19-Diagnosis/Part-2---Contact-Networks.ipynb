{
  "cells": [
    {
      "cell_type": "markdown",
      "metadata": {
        "id": "7ulT_a9hawmk"
      },
      "source": [
        "# COVID-19 Contact Networks\n",
        "\n"
      ]
    },
    {
      "cell_type": "markdown",
      "metadata": {
        "id": "6xAe4z3yawmw"
      },
      "source": [
        "## Import Packages \n",
        "\n",
        "First we import all required Python packages that we need during the project. "
      ]
    },
    {
      "cell_type": "code",
      "execution_count": null,
      "metadata": {
        "id": "ZifdfStHawmy"
      },
      "outputs": [],
      "source": [
        " # the pandas package provides tools for storing and manipulating dataframes\n",
        "import pandas as pd       \n",
        "# numpy package for working with arrays of numbers \n",
        "import numpy as np       \n",
        "# import matplotlib.pyplot package for functions to plot numeric data\n",
        "import matplotlib.pyplot as plt   \n",
        "# import \"os\" package which provides methods for using filesystem\n",
        "import os                          \n",
        "# import \"networkx\" package which provides methods for generating and processing networks\n",
        "import networkx as nx              \n",
        "# import \"datetime\" package which provides methods to process date and time strings\n",
        "import datetime as dt           \n",
        "# import \"geopy\" package which provides methods to process geographic coordinates\n",
        "from geopy.distance import geodesic   \n",
        "# import \"sklearn\" package which provides methods for processing label values\n",
        "import sklearn as sk\n",
        "#import module \"preprocessing\" from package \"sklearn\"\n",
        "from sklearn import preprocessing"
      ]
    },
    {
      "cell_type": "markdown",
      "metadata": {
        "id": "3AAM4ie0awm1"
      },
      "source": [
        "## Step 1 - Generate Contact Network\n",
        "\n",
        "In this step, the \"PeopleLocations.csv\" is read in as a pandas dataframe, which contains a list of recorded locations of individiuals at specific times. Each individual has a unique identifier (ID), and corresponding latitude (Latidute), longitude(Longitude), date(Date) and time(Time) at which the recording was taken. Thus the dataframe contains the features:  \n",
        "\n",
        "`ID; Latidute; Longitude; Date; Time; Covid19`\n",
        "\n",
        "Here `ID` is a string that represents the identifier of the individual. The fields `Latitude` and `Longitude`are GPS coordinates of the individual at the time of recording. The fields `Date` and `Time` are strings representing the date and time of the recording. The last field `Covid19` contains `\"y\"` if the individual has been found Covid-19 positive at the time of recording. Otherwise the field `Covid19` contains `\"n\"`. "
      ]
    },
    {
      "cell_type": "code",
      "execution_count": null,
      "metadata": {
        "id": "8A1UqTwUawm3"
      },
      "outputs": [],
      "source": [
        "# read in data from PeopleLocations.csv into dataframe \"df\"\n",
        "peloc = pd.read_csv('PeopleLocations.csv',sep=';')    \n",
        "\n",
        "# store the header of the first colum of dataframe df in variable \"IDcol\"\n",
        "\n",
        "IDcol = peloc.columns[0]\n",
        "\n",
        "# determine a list of different individuals for which there is at least one record in the csv file\n",
        "\n",
        "uniquepart = peloc[IDcol].unique()       \n",
        "\n",
        "# count the number of different individuals. this will be the number of nodes in the contace network\n",
        "\n",
        "nrnodes = len(uniquepart)        "
      ]
    },
    {
      "cell_type": "code",
      "execution_count": null,
      "metadata": {
        "id": "RNnjKJ5jawm5"
      },
      "outputs": [],
      "source": [
        "# build up the network by adding a node for each individual with a record in \"PeopleLocations.csv\"\n",
        "\n",
        "# create an object \"G\" using the constructor nx.Graph() \n",
        "\n",
        "G = nx.Graph()\n",
        "\n",
        "# create object \"le\" of class preprocessing.LabelEncoder() \n",
        "# the object \"le\" will be used to transfrom values 'y' or 'n' for the attribue \"Covid19\" to values 1 or 0\n",
        "\n",
        "le = preprocessing.LabelEncoder()               \n",
        "\n",
        "# use function le.fit() to define the label values \"n\" and \"y\" to be mapped to 0 and 1 \n",
        "\n",
        "le.fit([\"n\", \"y\"])\n",
        "\n",
        "# iterate over different individuals indexed by nodeidx=0,1,...\n",
        "\n",
        "for nodeidx in range(nrnodes): \n",
        "    \n",
        "    # read in identifier of individual from list `uniquepart` and store in variable personid\n",
        "    personid = uniquepart[nodeidx]\n",
        "    \n",
        "    # create dataframe dmydf by selecting all rows from dataframe `df` with attribute `ID` equal to `personid`\n",
        "    dmydf = pd.DataFrame(df.loc[df['ID'] == personid].copy())\n",
        "    \n",
        "    # reset index of dataframe dmydf\n",
        "    dmydf.reset_index(drop=True, inplace=True) \n",
        "    \n",
        "    # read in latitude of first location recording in `dmydf` and store in variable `latitude`\n",
        "    latitude=dmydf.loc[0,['Lat']][0]\n",
        "    \n",
        "    # read in longitude of first location recording in `dmydf` and store in variable `longitude`\n",
        "    longitude=dmydf.loc[0,['Lon']][0]\n",
        "    \n",
        "    # read in Covid19 infection status of first location recording in `dmydf` and store in variable `valtmp`\n",
        "    valtmp=dmydf.loc[0,['Covid19']][0]\n",
        "    \n",
        "    # use le.transform() to map the infection status `valtmp` as `y`->1 and `n`-> 0\n",
        "    infected=le.transform([valtmp])\n",
        "    \n",
        "    # read in the date of the recording and store in variable date_tmp\n",
        "    date_tmp = dt.datetime.strptime(dmydf.loc[0,['Date']][0], '%d-%m-%Y').date() \n",
        "    \n",
        "    # read in the time of the recording and store in variable time_tmp\n",
        "    time_tmp = dt.datetime.strptime(dmydf.loc[0,['Time']][0], '%H:%M:%S').time()\n",
        "    \n",
        "    # combine date and time of location racording using `datetime.combine()\n",
        "    mydatetime = dt.datetime.combine(date_tmp, time_tmp)\n",
        "    \n",
        "    # add a node with index `nodeidx`\n",
        "    G.add_node(nodeidx)\n",
        "    # for node with index `nodeidx`, add attribute \"name\" with value given by \"personid\" \n",
        "    G.nodes[nodeidx]['name']= personid\n",
        "    # for node with index `nodeidx`, add attribute \"coords\" with value being a numpy \n",
        "    #    array of length 2 with elements latitude and longitude\n",
        "    G.nodes[nodeidx]['coords']= np.array([latitude,longitude])\n",
        "    # for node with index `nodeidx`, add attribute \"timestamp\" with value given by variable \"mydatetime\"  \n",
        "    G.nodes[nodeidx]['timestamp'] = mydatetime\n",
        "    # for node with index `nodeidx`, add attribute \"Rate\" with value given by \"infected[0]\"\n",
        "    G.nodes[nodeidx]['Rate'] = infected[0]   \n",
        "    "
      ]
    },
    {
      "cell_type": "code",
      "execution_count": null,
      "metadata": {
        "id": "XCkGgdYSawm-"
      },
      "outputs": [],
      "source": [
        "# loop over all pairs of different nodes and determine if the corresponding distance \n",
        "# between G.nodes[..]['coords'] is below 2 meters. If yes then add an edge to networkx object \"G\"\n",
        "for nodeidx1 in range(nrnodes): \n",
        "    for nodeidx2 in range(nrnodes): \n",
        "        if nodeidx1!=nodeidx2 : \n",
        "            # compute the geodesic distance between individualas \"nodeidx1\" and \"nodeidx2\" in meters \n",
        "            nodedist=geodesic(G.nodes[nodeidx1]['coords'],G.nodes[nodeidx2]['coords']).meters\n",
        "            # if distance is below two meters connect invididuals by and edge. \n",
        "            if  nodedist<2: \n",
        "                G.add_edge(nodeidx1,nodeidx2)"
      ]
    },
    {
      "cell_type": "code",
      "execution_count": null,
      "metadata": {
        "colab": {
          "base_uri": "https://localhost:8080/",
          "height": 319
        },
        "id": "D0Jr97oMawm_",
        "outputId": "057ac1ad-0da3-4f6d-c4e8-a80cdbfa0eb2"
      },
      "outputs": [
        {
          "output_type": "display_data",
          "data": {
            "image/png": "[encoded data removed]",
            "text/plain": [
              "<Figure size 432x288 with 1 Axes>"
            ]
          },
          "metadata": {}
        }
      ],
      "source": [
        "# plot contact network G using nx.draw()\n",
        "\n",
        "nc  = nx.draw(G,pos=nx.spring_layout(G))\n",
        "\n",
        "# display figure using plt.show()\n",
        "\n",
        "plt.show()\n"
      ]
    },
    {
      "cell_type": "markdown",
      "metadata": {
        "id": "qQy-PiKGawnC"
      },
      "source": [
        "## Step 2 - Infection Rate\n",
        "\n",
        "This milestone requires to determine the infection rate using the contact network obtained when completing Milestone 1. The infection rate is the total number of individuals with a confirmed infection, infection status `\"y\"`, divided by the total number of individuals in the contact networks. "
      ]
    },
    {
      "cell_type": "code",
      "execution_count": null,
      "metadata": {
        "id": "e6TDzdvuawnD"
      },
      "outputs": [],
      "source": [
        "# set variable \"nriters\" to 30\n",
        "nriters=30\n",
        "\n",
        "# create numpy array `W_MH` of shape (nrnodes,nrnodes) and with all entries zero\n",
        "\n",
        "W_MH = np.zeros((nrnodes,nrnodes)) \n",
        "\n",
        "# loop over all edges in G.edges ()  \n",
        "\n",
        "for edge in G.edges(): \n",
        "    # store first node of this edge in variable \"node_a\"\n",
        "    node_a = edge[0]\n",
        "    # store second node of this edge in variable \"node_b\"\n",
        "    node_b = edge[1]\n",
        "    # set entry W_MH[node_a,node_b] and W_MH[node_b,node_a] to MH weight  \n",
        "    W_MH[node_a,node_b] = 1/(np.max([G.degree(node_a),G.degree(node_b)])+1)\n",
        "    W_MH[node_b,node_a] = 1/(np.max([G.degree(node_a),G.degree(node_b)])+1)\n",
        "\n",
        "# loop over all nodes in the contact network G\n",
        "for nodedmy in G.nodes(): \n",
        "    # set weights W[nodedmy,nodedmy] to 1 - sum of weights for all neighbors of nodedmy\n",
        "    W_MH[nodedmy,nodedmy] = 1-np.sum(W_MH[nodedmy,:])\n",
        "   \n",
        "# loop over iterations for computing average infection rates\n",
        "\n",
        "for iterdmy in range(nriters):\n",
        "    # read in current values of \"Rate\" attributes into numpy array `graphsigold`\n",
        "    graphsigold = np.fromiter(nx.get_node_attributes(G,'Rate').values(),dtype=float, count=nrnodes)\n",
        "    \n",
        "    # loop over all nodes in \"G\", use loop variable \"node_i\"\n",
        "    for node_i in G.nodes(data=False):\n",
        "        # set auxiliary variable \"tmp\" to 0 \n",
        "        dmy = 0 \n",
        "        # loop over all neighbours of current node \"node_i\"\n",
        "        for node_j in G[node_i]: \n",
        "             dmy = dmy+W_MH[node_i,node_j]*graphsigold[node_j]#/(fac1*fac2)\n",
        "        G.nodes[node_i]['Rate'] =W_MH[node_i,node_i]*graphsigold[node_i] + dmy\n",
        "    \n"
      ]
    },
    {
      "cell_type": "code",
      "execution_count": null,
      "metadata": {
        "colab": {
          "base_uri": "https://localhost:8080/",
          "height": 250
        },
        "id": "KWfgyIJAawnF",
        "outputId": "ce35049d-a8ea-4469-a403-bd5440484bf5"
      },
      "outputs": [
        {
          "output_type": "display_data",
          "data": {
            "image/png": "[encoded data removed]",
            "text/plain": [
              "<Figure size 432x288 with 2 Axes>"
            ]
          },
          "metadata": {
            "needs_background": "light"
          }
        }
      ],
      "source": [
        "# create a NodeView object \"nodes\" for the nodes in the networkx graph \"G\" \n",
        "nodes = G.nodes()\n",
        "\n",
        "# create a list of \"Rate\" attribute for all nodes in \"G\"\n",
        "\n",
        "list_of_rates = [G.nodes[node_i]['Rate'] for node_i in nodes]\n",
        "\n",
        "# create coordinates of nodes in figure using nx.spring_layout(G) \n",
        "\n",
        "pos = nx.spring_layout(G)\n",
        "\n",
        "# draw edges of \"G\" using nx.draw_networkx_edges() \n",
        "\n",
        "ec  = nx.draw_networkx_edges(G, pos)\n",
        "\n",
        "# use nx.draw_networkx_nodes() to draw nodes of \"G\" using node colours given by \"Rate\" value for each node\n",
        "\n",
        "nc  = nx.draw_networkx_nodes(G, pos, nodelist=nodes, node_color=list_of_rates, \n",
        "                            label=None, node_size=100, cmap=plt.cm.jet)\n",
        "\n",
        "# add colorbar using plt.colorbar(); this needs as parameter the object returned by the above nx.draw_networkx_nodes()\n",
        "plt.colorbar(nc)\n",
        "\n",
        "# display figure using plt.show()\n",
        "\n",
        "plt.show()"
      ]
    },
    {
      "cell_type": "code",
      "execution_count": null,
      "metadata": {
        "id": "1yWtvTuRawnG"
      },
      "outputs": [],
      "source": [
        ""
      ]
    }
  ],
  "metadata": {
    "kernelspec": {
      "display_name": "Python 3 (ipykernel)",
      "language": "python",
      "name": "python3"
    },
    "language_info": {
      "codemirror_mode": {
        "name": "ipython",
        "version": 3
      },
      "file_extension": ".py",
      "mimetype": "text/x-python",
      "name": "python",
      "nbconvert_exporter": "python",
      "pygments_lexer": "ipython3",
      "version": "3.9.7"
    },
    "colab": {
      "name": "Part 2 - Contact Networks.ipynb",
      "provenance": [],
      "collapsed_sections": []
    }
  },
  "nbformat": 4,
  "nbformat_minor": 0
}