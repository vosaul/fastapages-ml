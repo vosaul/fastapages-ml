{
 "cells": [
  {
   "cell_type": "markdown",
   "metadata": {},
   "source": [
    "## Importing Necessary Libraries and Functions"
   ]
  },
  {
   "cell_type": "markdown",
   "metadata": {},
   "source": [
    "The first thing we need to do is import the necessary functions and libraries that we will be working with throughout the topic. We should also go ahead and upload all the of the necessary data sets here instead of loading them as we go. We will be using energy production data from PJM Interconnection. They are a regional transmission organization that coordinates the movement of wholesale electricity in parts of the United States. Specifically, we will be focused on a region of Pennsylvania. We will also be using temperature data collected from the National Oceanic and Atmospheric Assocation (NOAA)."
   ]
  },
  {
   "cell_type": "code",
   "execution_count": null,
   "metadata": {},
   "outputs": [],
   "source": [
    "!conda update -n base -c defaults conda\n",
    "\n",
    "!conda install pandas -y\n",
    "!conda install numpy -y\n",
    "!conda install matplotlib -y\n",
    "!conda install statsmodels -y"
   ]
  },
  {
   "cell_type": "code",
   "execution_count": 2,
   "metadata": {},
   "outputs": [],
   "source": [
    "import pandas as pd\n",
    "import numpy as np\n",
    "import matplotlib.pyplot as plt\n",
    "import statsmodels.api as sm\n",
    "from statsmodels.graphics import tsaplots"
   ]
  },
  {
   "cell_type": "markdown",
   "metadata": {},
   "source": [
    "Notice how we added an additional module above called ```statsmodels```. We need to build regression models in this milestone and so we will need the statsmodels module to do so. It is a Python module that provides classes and functions for the estimation of many different statistical models, as well as for conducting statistical tests, and statistical data exploration.\n",
    "\n",
    "This milestone builds off the previous ones so we should complete the following steps to the first milestone again to have our data prepped and ready to go!"
   ]
  },
  {
   "cell_type": "markdown",
   "metadata": {},
   "source": [
    "## Preparing the Energy and Temperature Data"
   ]
  },
  {
   "cell_type": "markdown",
   "metadata": {},
   "source": [
    "First we need to load our weather and energy data sets for cleaning. Let's use the pandas library and the ```read.csv``` function to do this."
   ]
  },
  {
   "cell_type": "code",
   "execution_count": 3,
   "metadata": {},
   "outputs": [],
   "source": [
    "# Loading the Needed Data Sets \n",
    "weather = pd.read_csv('.../hr_temp_20170201-20200131_subset.csv')\n",
    "energy = pd.read_csv('.../hrl_load_metered - 20170201-20200131.csv')\n"
   ]
  },
  {
   "cell_type": "markdown",
   "metadata": {},
   "source": [
    "It is always good practice to take a look at the first few observations of the data set to make sure that everything looks like how we expected it to when we read in our CSV file. Let's use the ```head``` function for this."
   ]
  },
  {
   "cell_type": "code",
   "execution_count": 4,
   "metadata": {},
   "outputs": [
    {
     "data": {
      "text/html": [
       "<div>\n",
       "<style scoped>\n",
       "    .dataframe tbody tr th:only-of-type {\n",
       "        vertical-align: middle;\n",
       "    }\n",
       "\n",
       "    .dataframe tbody tr th {\n",
       "        vertical-align: top;\n",
       "    }\n",
       "\n",
       "    .dataframe thead th {\n",
       "        text-align: right;\n",
       "    }\n",
       "</style>\n",
       "<table border=\"1\" class=\"dataframe\">\n",
       "  <thead>\n",
       "    <tr style=\"text-align: right;\">\n",
       "      <th></th>\n",
       "      <th>STATION</th>\n",
       "      <th>DATE</th>\n",
       "      <th>REPORT_TYPE</th>\n",
       "      <th>SOURCE</th>\n",
       "      <th>HourlyDryBulbTemperature</th>\n",
       "    </tr>\n",
       "  </thead>\n",
       "  <tbody>\n",
       "    <tr>\n",
       "      <th>0</th>\n",
       "      <td>72520514762</td>\n",
       "      <td>2017-02-01T00:53:00</td>\n",
       "      <td>FM-15</td>\n",
       "      <td>7</td>\n",
       "      <td>37.0</td>\n",
       "    </tr>\n",
       "    <tr>\n",
       "      <th>1</th>\n",
       "      <td>72520514762</td>\n",
       "      <td>2017-02-01T01:53:00</td>\n",
       "      <td>FM-15</td>\n",
       "      <td>7</td>\n",
       "      <td>37.0</td>\n",
       "    </tr>\n",
       "    <tr>\n",
       "      <th>2</th>\n",
       "      <td>72520514762</td>\n",
       "      <td>2017-02-01T02:53:00</td>\n",
       "      <td>FM-15</td>\n",
       "      <td>7</td>\n",
       "      <td>36.0</td>\n",
       "    </tr>\n",
       "    <tr>\n",
       "      <th>3</th>\n",
       "      <td>72520514762</td>\n",
       "      <td>2017-02-01T03:53:00</td>\n",
       "      <td>FM-15</td>\n",
       "      <td>7</td>\n",
       "      <td>36.0</td>\n",
       "    </tr>\n",
       "    <tr>\n",
       "      <th>4</th>\n",
       "      <td>72520514762</td>\n",
       "      <td>2017-02-01T04:53:00</td>\n",
       "      <td>FM-15</td>\n",
       "      <td>7</td>\n",
       "      <td>36.0</td>\n",
       "    </tr>\n",
       "  </tbody>\n",
       "</table>\n",
       "</div>"
      ],
      "text/plain": [
       "       STATION                 DATE REPORT_TYPE  SOURCE  \\\n",
       "0  72520514762  2017-02-01T00:53:00       FM-15       7   \n",
       "1  72520514762  2017-02-01T01:53:00       FM-15       7   \n",
       "2  72520514762  2017-02-01T02:53:00       FM-15       7   \n",
       "3  72520514762  2017-02-01T03:53:00       FM-15       7   \n",
       "4  72520514762  2017-02-01T04:53:00       FM-15       7   \n",
       "\n",
       "   HourlyDryBulbTemperature  \n",
       "0                      37.0  \n",
       "1                      37.0  \n",
       "2                      36.0  \n",
       "3                      36.0  \n",
       "4                      36.0  "
      ]
     },
     "execution_count": 4,
     "metadata": {},
     "output_type": "execute_result"
    }
   ],
   "source": [
    "weather.head()"
   ]
  },
  {
   "cell_type": "markdown",
   "metadata": {},
   "source": [
    "Perfect! We have temperature as well as time. There are some other pieces of information like the station number, source of the reading and reading type, but we don't need those.\n",
    "\n",
    "Let's take a look at the first few observations of the energy data as well!"
   ]
  },
  {
   "cell_type": "code",
   "execution_count": 5,
   "metadata": {},
   "outputs": [
    {
     "data": {
      "text/html": [
       "<div>\n",
       "<style scoped>\n",
       "    .dataframe tbody tr th:only-of-type {\n",
       "        vertical-align: middle;\n",
       "    }\n",
       "\n",
       "    .dataframe tbody tr th {\n",
       "        vertical-align: top;\n",
       "    }\n",
       "\n",
       "    .dataframe thead th {\n",
       "        text-align: right;\n",
       "    }\n",
       "</style>\n",
       "<table border=\"1\" class=\"dataframe\">\n",
       "  <thead>\n",
       "    <tr style=\"text-align: right;\">\n",
       "      <th></th>\n",
       "      <th>datetime_beginning_utc</th>\n",
       "      <th>datetime_beginning_ept</th>\n",
       "      <th>nerc_region</th>\n",
       "      <th>mkt_region</th>\n",
       "      <th>zone</th>\n",
       "      <th>load_area</th>\n",
       "      <th>mw</th>\n",
       "      <th>is_verified</th>\n",
       "    </tr>\n",
       "  </thead>\n",
       "  <tbody>\n",
       "    <tr>\n",
       "      <th>0</th>\n",
       "      <td>2/1/2017 5:00</td>\n",
       "      <td>2/1/2017 0:00</td>\n",
       "      <td>RFC</td>\n",
       "      <td>WEST</td>\n",
       "      <td>DUQ</td>\n",
       "      <td>DUQ</td>\n",
       "      <td>1419.881</td>\n",
       "      <td>True</td>\n",
       "    </tr>\n",
       "    <tr>\n",
       "      <th>1</th>\n",
       "      <td>2/1/2017 6:00</td>\n",
       "      <td>2/1/2017 1:00</td>\n",
       "      <td>RFC</td>\n",
       "      <td>WEST</td>\n",
       "      <td>DUQ</td>\n",
       "      <td>DUQ</td>\n",
       "      <td>1379.505</td>\n",
       "      <td>True</td>\n",
       "    </tr>\n",
       "    <tr>\n",
       "      <th>2</th>\n",
       "      <td>2/1/2017 7:00</td>\n",
       "      <td>2/1/2017 2:00</td>\n",
       "      <td>RFC</td>\n",
       "      <td>WEST</td>\n",
       "      <td>DUQ</td>\n",
       "      <td>DUQ</td>\n",
       "      <td>1366.106</td>\n",
       "      <td>True</td>\n",
       "    </tr>\n",
       "    <tr>\n",
       "      <th>3</th>\n",
       "      <td>2/1/2017 8:00</td>\n",
       "      <td>2/1/2017 3:00</td>\n",
       "      <td>RFC</td>\n",
       "      <td>WEST</td>\n",
       "      <td>DUQ</td>\n",
       "      <td>DUQ</td>\n",
       "      <td>1364.453</td>\n",
       "      <td>True</td>\n",
       "    </tr>\n",
       "    <tr>\n",
       "      <th>4</th>\n",
       "      <td>2/1/2017 9:00</td>\n",
       "      <td>2/1/2017 4:00</td>\n",
       "      <td>RFC</td>\n",
       "      <td>WEST</td>\n",
       "      <td>DUQ</td>\n",
       "      <td>DUQ</td>\n",
       "      <td>1391.265</td>\n",
       "      <td>True</td>\n",
       "    </tr>\n",
       "  </tbody>\n",
       "</table>\n",
       "</div>"
      ],
      "text/plain": [
       "  datetime_beginning_utc datetime_beginning_ept nerc_region mkt_region zone  \\\n",
       "0          2/1/2017 5:00          2/1/2017 0:00         RFC       WEST  DUQ   \n",
       "1          2/1/2017 6:00          2/1/2017 1:00         RFC       WEST  DUQ   \n",
       "2          2/1/2017 7:00          2/1/2017 2:00         RFC       WEST  DUQ   \n",
       "3          2/1/2017 8:00          2/1/2017 3:00         RFC       WEST  DUQ   \n",
       "4          2/1/2017 9:00          2/1/2017 4:00         RFC       WEST  DUQ   \n",
       "\n",
       "  load_area        mw  is_verified  \n",
       "0       DUQ  1419.881         True  \n",
       "1       DUQ  1379.505         True  \n",
       "2       DUQ  1366.106         True  \n",
       "3       DUQ  1364.453         True  \n",
       "4       DUQ  1391.265         True  "
      ]
     },
     "execution_count": 5,
     "metadata": {},
     "output_type": "execute_result"
    }
   ],
   "source": [
    "energy.head()"
   ]
  },
  {
   "cell_type": "markdown",
   "metadata": {},
   "source": [
    "Great! Again, we have the important information of time as well as megawatt (MW) readings per hour. Again, there are some other varibales that we won't end up using in this data set as well.\n",
    "\n",
    "Let's get rid of the variables we don't need and combine the variables that we do need into one pandas data frame. Dictionaries are an easy way of doing this. Here, we are pulling the MW column from the energy data set as well as the temperature and date columns from the weather data set. These data sets already line up on time which makes this much easier."
   ]
  },
  {
   "cell_type": "code",
   "execution_count": 6,
   "metadata": {},
   "outputs": [],
   "source": [
    "d = {'MW': energy['mw'], 'Temp': weather['HourlyDryBulbTemperature'], 'Date': weather['DATE']}"
   ]
  },
  {
   "cell_type": "markdown",
   "metadata": {},
   "source": [
    "Now let's create our pandas data frame."
   ]
  },
  {
   "cell_type": "code",
   "execution_count": 7,
   "metadata": {},
   "outputs": [],
   "source": [
    "df = pd.DataFrame(d)"
   ]
  },
  {
   "cell_type": "markdown",
   "metadata": {},
   "source": [
    "One of the problems when loading a data set you want to run time series analysis on is the type of object Python sees for the \"date\" variable. Let's look at the pandas data frame data types for each of our variables."
   ]
  },
  {
   "cell_type": "code",
   "execution_count": 8,
   "metadata": {},
   "outputs": [
    {
     "name": "stdout",
     "output_type": "stream",
     "text": [
      "MW      float64\n",
      "Temp    float64\n",
      "Date     object\n",
      "dtype: object\n"
     ]
    }
   ],
   "source": [
    "print(df.dtypes)"
   ]
  },
  {
   "cell_type": "markdown",
   "metadata": {},
   "source": [
    "Here we can see that the Date variable is a general object and not a \"date\" according to Python. We can change that with the pandas function ```to_datetime``` as we have below."
   ]
  },
  {
   "cell_type": "code",
   "execution_count": 9,
   "metadata": {},
   "outputs": [
    {
     "name": "stdout",
     "output_type": "stream",
     "text": [
      "MW             float64\n",
      "Temp           float64\n",
      "Date    datetime64[ns]\n",
      "dtype: object\n"
     ]
    }
   ],
   "source": [
    "df['Date'] = pd.to_datetime(df['Date'])\n",
    "print(df.dtypes)"
   ]
  },
  {
   "cell_type": "markdown",
   "metadata": {},
   "source": [
    "Good! Now that we have a ```datetime64``` object in our data set we can easily create other forms of date variables. The hour of day, day of week, month of year, and possibly even the year itself might all impact the energy usage. Let's extract these variables from our date object so that we can use them in our analysis. Pandas has some wonderful functionality to do this with the ```hour```, ```day```, ```dayofweek```, ```month```, and ```year``` functions. Then let's inspect the first few observations to make sure things look correct."
   ]
  },
  {
   "cell_type": "code",
   "execution_count": 10,
   "metadata": {},
   "outputs": [
    {
     "data": {
      "text/html": [
       "<div>\n",
       "<style scoped>\n",
       "    .dataframe tbody tr th:only-of-type {\n",
       "        vertical-align: middle;\n",
       "    }\n",
       "\n",
       "    .dataframe tbody tr th {\n",
       "        vertical-align: top;\n",
       "    }\n",
       "\n",
       "    .dataframe thead th {\n",
       "        text-align: right;\n",
       "    }\n",
       "</style>\n",
       "<table border=\"1\" class=\"dataframe\">\n",
       "  <thead>\n",
       "    <tr style=\"text-align: right;\">\n",
       "      <th></th>\n",
       "      <th>MW</th>\n",
       "      <th>Temp</th>\n",
       "      <th>Date</th>\n",
       "      <th>hour</th>\n",
       "      <th>day</th>\n",
       "      <th>weekday</th>\n",
       "      <th>month</th>\n",
       "      <th>year</th>\n",
       "    </tr>\n",
       "  </thead>\n",
       "  <tbody>\n",
       "    <tr>\n",
       "      <th>0</th>\n",
       "      <td>1419.881</td>\n",
       "      <td>37.0</td>\n",
       "      <td>2017-02-01 00:53:00</td>\n",
       "      <td>0</td>\n",
       "      <td>1</td>\n",
       "      <td>2</td>\n",
       "      <td>2</td>\n",
       "      <td>2017</td>\n",
       "    </tr>\n",
       "    <tr>\n",
       "      <th>1</th>\n",
       "      <td>1379.505</td>\n",
       "      <td>37.0</td>\n",
       "      <td>2017-02-01 01:53:00</td>\n",
       "      <td>1</td>\n",
       "      <td>1</td>\n",
       "      <td>2</td>\n",
       "      <td>2</td>\n",
       "      <td>2017</td>\n",
       "    </tr>\n",
       "    <tr>\n",
       "      <th>2</th>\n",
       "      <td>1366.106</td>\n",
       "      <td>36.0</td>\n",
       "      <td>2017-02-01 02:53:00</td>\n",
       "      <td>2</td>\n",
       "      <td>1</td>\n",
       "      <td>2</td>\n",
       "      <td>2</td>\n",
       "      <td>2017</td>\n",
       "    </tr>\n",
       "    <tr>\n",
       "      <th>3</th>\n",
       "      <td>1364.453</td>\n",
       "      <td>36.0</td>\n",
       "      <td>2017-02-01 03:53:00</td>\n",
       "      <td>3</td>\n",
       "      <td>1</td>\n",
       "      <td>2</td>\n",
       "      <td>2</td>\n",
       "      <td>2017</td>\n",
       "    </tr>\n",
       "    <tr>\n",
       "      <th>4</th>\n",
       "      <td>1391.265</td>\n",
       "      <td>36.0</td>\n",
       "      <td>2017-02-01 04:53:00</td>\n",
       "      <td>4</td>\n",
       "      <td>1</td>\n",
       "      <td>2</td>\n",
       "      <td>2</td>\n",
       "      <td>2017</td>\n",
       "    </tr>\n",
       "  </tbody>\n",
       "</table>\n",
       "</div>"
      ],
      "text/plain": [
       "         MW  Temp                Date  hour  day  weekday  month  year\n",
       "0  1419.881  37.0 2017-02-01 00:53:00     0    1        2      2  2017\n",
       "1  1379.505  37.0 2017-02-01 01:53:00     1    1        2      2  2017\n",
       "2  1366.106  36.0 2017-02-01 02:53:00     2    1        2      2  2017\n",
       "3  1364.453  36.0 2017-02-01 03:53:00     3    1        2      2  2017\n",
       "4  1391.265  36.0 2017-02-01 04:53:00     4    1        2      2  2017"
      ]
     },
     "execution_count": 10,
     "metadata": {},
     "output_type": "execute_result"
    }
   ],
   "source": [
    "df['hour'] = pd.DatetimeIndex(pd.to_datetime(df['Date'])).hour\n",
    "df['day'] = pd.DatetimeIndex(pd.to_datetime(df['Date'])).day\n",
    "df['weekday'] = df['Date'].dt.dayofweek\n",
    "df['month'] = pd.DatetimeIndex(pd.to_datetime(df['Date'])).month\n",
    "df['year'] = pd.DatetimeIndex(pd.to_datetime(df['Date'])).year\n",
    "\n",
    "df.head()"
   ]
  },
  {
   "cell_type": "markdown",
   "metadata": {},
   "source": [
    "Everything looks good in the first few observations above. If you still aren't convinced you could pull different pieces of the data frame to make sure that other observations are structured correctly.\n",
    "\n",
    "Now we should set this Python date object as the index of our data set. This will make it easier for plotting as well as forecasting later. We can use the ```set_index``` function for this."
   ]
  },
  {
   "cell_type": "code",
   "execution_count": 11,
   "metadata": {},
   "outputs": [],
   "source": [
    "df = df.set_index('Date')"
   ]
  },
  {
   "cell_type": "markdown",
   "metadata": {},
   "source": [
    "Good! Now that we have our data structured as we would like, we can start the cleaning of the data. First, let's check if there are any missing values in the temperature column. The ```is.null``` function will help us here."
   ]
  },
  {
   "cell_type": "code",
   "execution_count": 12,
   "metadata": {},
   "outputs": [
    {
     "data": {
      "text/plain": [
       "37"
      ]
     },
     "execution_count": 12,
     "metadata": {},
     "output_type": "execute_result"
    }
   ],
   "source": [
    "sum(df['Temp'].isnull())"
   ]
  },
  {
   "cell_type": "markdown",
   "metadata": {},
   "source": [
    "Looks like there are 37 missing values in our temperature data. We shoudl impute those. However, we don't just want to put the average temperature in these spots as the overall average across three years probably isn't a good guess for any one hour. The temperature of the hours on either side of the missing observation would be more helpful. Let's do a linear interpolation across missing values to help with this. This will essentially draw a straight line between the two known points to fill in the missing values. We can use the ```interpolate(method='linear')``` function for this."
   ]
  },
  {
   "cell_type": "code",
   "execution_count": 13,
   "metadata": {},
   "outputs": [],
   "source": [
    "df['Temp'] = df['Temp'].interpolate(method='linear')"
   ]
  },
  {
   "cell_type": "markdown",
   "metadata": {},
   "source": [
    "Now let's see if we have any more missing temperature values."
   ]
  },
  {
   "cell_type": "code",
   "execution_count": 14,
   "metadata": {},
   "outputs": [
    {
     "data": {
      "text/plain": [
       "0"
      ]
     },
     "execution_count": 14,
     "metadata": {},
     "output_type": "execute_result"
    }
   ],
   "source": [
    "sum(df['Temp'].isnull())"
   ]
  },
  {
   "cell_type": "markdown",
   "metadata": {},
   "source": [
    "No more! Time to check if the energy data has any missing values."
   ]
  },
  {
   "cell_type": "code",
   "execution_count": 15,
   "metadata": {},
   "outputs": [
    {
     "data": {
      "text/plain": [
       "0"
      ]
     },
     "execution_count": 15,
     "metadata": {},
     "output_type": "execute_result"
    }
   ],
   "source": [
    "sum(df['MW'].isnull())"
   ]
  },
  {
   "cell_type": "markdown",
   "metadata": {},
   "source": [
    "No missing values there either! Perfect.\n",
    "\n",
    "Now it is time to split the data into two pieces - training and testing. The training data set is the data set we will be building our model on, while the testing data set is what we will be reporting results on since the model wouldn't have seen it ahead of time. Using the date index we can easily do this in our data frame."
   ]
  },
  {
   "cell_type": "code",
   "execution_count": 16,
   "metadata": {},
   "outputs": [],
   "source": [
    "#Training and Validation Split #\n",
    "train = pd.DataFrame(df['2017-01-01':'2019-12-31'])\n",
    "test = pd.DataFrame(df['2020-01-01':'2020-01-31'])"
   ]
  },
  {
   "cell_type": "markdown",
   "metadata": {},
   "source": [
    "Now let's look at the first few observations for our training data set."
   ]
  },
  {
   "cell_type": "code",
   "execution_count": 17,
   "metadata": {},
   "outputs": [
    {
     "data": {
      "text/html": [
       "<div>\n",
       "<style scoped>\n",
       "    .dataframe tbody tr th:only-of-type {\n",
       "        vertical-align: middle;\n",
       "    }\n",
       "\n",
       "    .dataframe tbody tr th {\n",
       "        vertical-align: top;\n",
       "    }\n",
       "\n",
       "    .dataframe thead th {\n",
       "        text-align: right;\n",
       "    }\n",
       "</style>\n",
       "<table border=\"1\" class=\"dataframe\">\n",
       "  <thead>\n",
       "    <tr style=\"text-align: right;\">\n",
       "      <th></th>\n",
       "      <th>MW</th>\n",
       "      <th>Temp</th>\n",
       "      <th>hour</th>\n",
       "      <th>day</th>\n",
       "      <th>weekday</th>\n",
       "      <th>month</th>\n",
       "      <th>year</th>\n",
       "    </tr>\n",
       "    <tr>\n",
       "      <th>Date</th>\n",
       "      <th></th>\n",
       "      <th></th>\n",
       "      <th></th>\n",
       "      <th></th>\n",
       "      <th></th>\n",
       "      <th></th>\n",
       "      <th></th>\n",
       "    </tr>\n",
       "  </thead>\n",
       "  <tbody>\n",
       "    <tr>\n",
       "      <th>2017-02-01 00:53:00</th>\n",
       "      <td>1419.881</td>\n",
       "      <td>37.0</td>\n",
       "      <td>0</td>\n",
       "      <td>1</td>\n",
       "      <td>2</td>\n",
       "      <td>2</td>\n",
       "      <td>2017</td>\n",
       "    </tr>\n",
       "    <tr>\n",
       "      <th>2017-02-01 01:53:00</th>\n",
       "      <td>1379.505</td>\n",
       "      <td>37.0</td>\n",
       "      <td>1</td>\n",
       "      <td>1</td>\n",
       "      <td>2</td>\n",
       "      <td>2</td>\n",
       "      <td>2017</td>\n",
       "    </tr>\n",
       "    <tr>\n",
       "      <th>2017-02-01 02:53:00</th>\n",
       "      <td>1366.106</td>\n",
       "      <td>36.0</td>\n",
       "      <td>2</td>\n",
       "      <td>1</td>\n",
       "      <td>2</td>\n",
       "      <td>2</td>\n",
       "      <td>2017</td>\n",
       "    </tr>\n",
       "    <tr>\n",
       "      <th>2017-02-01 03:53:00</th>\n",
       "      <td>1364.453</td>\n",
       "      <td>36.0</td>\n",
       "      <td>3</td>\n",
       "      <td>1</td>\n",
       "      <td>2</td>\n",
       "      <td>2</td>\n",
       "      <td>2017</td>\n",
       "    </tr>\n",
       "    <tr>\n",
       "      <th>2017-02-01 04:53:00</th>\n",
       "      <td>1391.265</td>\n",
       "      <td>36.0</td>\n",
       "      <td>4</td>\n",
       "      <td>1</td>\n",
       "      <td>2</td>\n",
       "      <td>2</td>\n",
       "      <td>2017</td>\n",
       "    </tr>\n",
       "  </tbody>\n",
       "</table>\n",
       "</div>"
      ],
      "text/plain": [
       "                           MW  Temp  hour  day  weekday  month  year\n",
       "Date                                                                \n",
       "2017-02-01 00:53:00  1419.881  37.0     0    1        2      2  2017\n",
       "2017-02-01 01:53:00  1379.505  37.0     1    1        2      2  2017\n",
       "2017-02-01 02:53:00  1366.106  36.0     2    1        2      2  2017\n",
       "2017-02-01 03:53:00  1364.453  36.0     3    1        2      2  2017\n",
       "2017-02-01 04:53:00  1391.265  36.0     4    1        2      2  2017"
      ]
     },
     "execution_count": 17,
     "metadata": {},
     "output_type": "execute_result"
    }
   ],
   "source": [
    "train.head()"
   ]
  },
  {
   "cell_type": "markdown",
   "metadata": {},
   "source": [
    "Everything looks good there!\n",
    "\n",
    "Now let's do the same for our testing data set."
   ]
  },
  {
   "cell_type": "code",
   "execution_count": 18,
   "metadata": {},
   "outputs": [
    {
     "data": {
      "text/html": [
       "<div>\n",
       "<style scoped>\n",
       "    .dataframe tbody tr th:only-of-type {\n",
       "        vertical-align: middle;\n",
       "    }\n",
       "\n",
       "    .dataframe tbody tr th {\n",
       "        vertical-align: top;\n",
       "    }\n",
       "\n",
       "    .dataframe thead th {\n",
       "        text-align: right;\n",
       "    }\n",
       "</style>\n",
       "<table border=\"1\" class=\"dataframe\">\n",
       "  <thead>\n",
       "    <tr style=\"text-align: right;\">\n",
       "      <th></th>\n",
       "      <th>MW</th>\n",
       "      <th>Temp</th>\n",
       "      <th>hour</th>\n",
       "      <th>day</th>\n",
       "      <th>weekday</th>\n",
       "      <th>month</th>\n",
       "      <th>year</th>\n",
       "    </tr>\n",
       "    <tr>\n",
       "      <th>Date</th>\n",
       "      <th></th>\n",
       "      <th></th>\n",
       "      <th></th>\n",
       "      <th></th>\n",
       "      <th></th>\n",
       "      <th></th>\n",
       "      <th></th>\n",
       "    </tr>\n",
       "  </thead>\n",
       "  <tbody>\n",
       "    <tr>\n",
       "      <th>2020-01-01 00:53:00</th>\n",
       "      <td>1363.428</td>\n",
       "      <td>31.0</td>\n",
       "      <td>0</td>\n",
       "      <td>1</td>\n",
       "      <td>2</td>\n",
       "      <td>1</td>\n",
       "      <td>2020</td>\n",
       "    </tr>\n",
       "    <tr>\n",
       "      <th>2020-01-01 01:53:00</th>\n",
       "      <td>1335.975</td>\n",
       "      <td>29.0</td>\n",
       "      <td>1</td>\n",
       "      <td>1</td>\n",
       "      <td>2</td>\n",
       "      <td>1</td>\n",
       "      <td>2020</td>\n",
       "    </tr>\n",
       "    <tr>\n",
       "      <th>2020-01-01 02:53:00</th>\n",
       "      <td>1296.817</td>\n",
       "      <td>30.0</td>\n",
       "      <td>2</td>\n",
       "      <td>1</td>\n",
       "      <td>2</td>\n",
       "      <td>1</td>\n",
       "      <td>2020</td>\n",
       "    </tr>\n",
       "    <tr>\n",
       "      <th>2020-01-01 03:53:00</th>\n",
       "      <td>1288.403</td>\n",
       "      <td>30.0</td>\n",
       "      <td>3</td>\n",
       "      <td>1</td>\n",
       "      <td>2</td>\n",
       "      <td>1</td>\n",
       "      <td>2020</td>\n",
       "    </tr>\n",
       "    <tr>\n",
       "      <th>2020-01-01 04:53:00</th>\n",
       "      <td>1292.263</td>\n",
       "      <td>31.0</td>\n",
       "      <td>4</td>\n",
       "      <td>1</td>\n",
       "      <td>2</td>\n",
       "      <td>1</td>\n",
       "      <td>2020</td>\n",
       "    </tr>\n",
       "  </tbody>\n",
       "</table>\n",
       "</div>"
      ],
      "text/plain": [
       "                           MW  Temp  hour  day  weekday  month  year\n",
       "Date                                                                \n",
       "2020-01-01 00:53:00  1363.428  31.0     0    1        2      1  2020\n",
       "2020-01-01 01:53:00  1335.975  29.0     1    1        2      1  2020\n",
       "2020-01-01 02:53:00  1296.817  30.0     2    1        2      1  2020\n",
       "2020-01-01 03:53:00  1288.403  30.0     3    1        2      1  2020\n",
       "2020-01-01 04:53:00  1292.263  31.0     4    1        2      1  2020"
      ]
     },
     "execution_count": 18,
     "metadata": {},
     "output_type": "execute_result"
    }
   ],
   "source": [
    "test.head()"
   ]
  },
  {
   "cell_type": "markdown",
   "metadata": {},
   "source": [
    "Excellent! We now have our data cleaned and split. By combining and cleaning the data sets, we will make the exploration of these data sets as well as the modeling of these data sets much easier for the upcoming sections!"
   ]
  },
  {
   "cell_type": "markdown",
   "metadata": {},
   "source": [
    "## Building Naive Energy Model"
   ]
  },
  {
   "cell_type": "markdown",
   "metadata": {},
   "source": [
    "Now that we have recreated the pieces of milestone 1 that clean and split our data we can start the modeling phase of milestone 3.\n",
    "\n",
    "First, let's review some of the findings we have from the first two milestones:\n",
    "- Energy usage changes depending on month / season\n",
    "- Energy usage changes depending on day of week\n",
    "- Energy usage changes depending on hour of day\n",
    "- Energy usage changes depending on outside temperature\n",
    "- The relationship between temperature and energy usage appears quadratic in nature\n",
    "\n",
    "Looking at this last bullet point, we need to create a quadratic variable on temperature as temperature in the model by itself won't be enough to model energy usage. It is always good practice to standardize (mean of 0 and standard deviation of 1) any variable you are going to raise to a higher power in a regression to help prevent multicollinearity problems. We can standardize the variable *Temp* by using the ```mean``` and ```std``` functions."
   ]
  },
  {
   "cell_type": "code",
   "execution_count": 19,
   "metadata": {},
   "outputs": [],
   "source": [
    "train['Temp_Norm'] = (train['Temp']-train['Temp'].mean())/train['Temp'].std()"
   ]
  },
  {
   "cell_type": "markdown",
   "metadata": {},
   "source": [
    "Now that temperature is standardized (or normalized) we can just multiply it by itself to get our quadratic term."
   ]
  },
  {
   "cell_type": "code",
   "execution_count": 20,
   "metadata": {},
   "outputs": [],
   "source": [
    "train['Temp_Norm2'] = train['Temp_Norm']**2"
   ]
  },
  {
   "cell_type": "markdown",
   "metadata": {},
   "source": [
    "Let's do a brief look at the first few observations in our training data set to make sure that things worked as expected."
   ]
  },
  {
   "cell_type": "code",
   "execution_count": 21,
   "metadata": {},
   "outputs": [
    {
     "data": {
      "text/html": [
       "<div>\n",
       "<style scoped>\n",
       "    .dataframe tbody tr th:only-of-type {\n",
       "        vertical-align: middle;\n",
       "    }\n",
       "\n",
       "    .dataframe tbody tr th {\n",
       "        vertical-align: top;\n",
       "    }\n",
       "\n",
       "    .dataframe thead th {\n",
       "        text-align: right;\n",
       "    }\n",
       "</style>\n",
       "<table border=\"1\" class=\"dataframe\">\n",
       "  <thead>\n",
       "    <tr style=\"text-align: right;\">\n",
       "      <th></th>\n",
       "      <th>MW</th>\n",
       "      <th>Temp</th>\n",
       "      <th>hour</th>\n",
       "      <th>day</th>\n",
       "      <th>weekday</th>\n",
       "      <th>month</th>\n",
       "      <th>year</th>\n",
       "      <th>Temp_Norm</th>\n",
       "      <th>Temp_Norm2</th>\n",
       "    </tr>\n",
       "    <tr>\n",
       "      <th>Date</th>\n",
       "      <th></th>\n",
       "      <th></th>\n",
       "      <th></th>\n",
       "      <th></th>\n",
       "      <th></th>\n",
       "      <th></th>\n",
       "      <th></th>\n",
       "      <th></th>\n",
       "      <th></th>\n",
       "    </tr>\n",
       "  </thead>\n",
       "  <tbody>\n",
       "    <tr>\n",
       "      <th>2017-02-01 00:53:00</th>\n",
       "      <td>1419.881</td>\n",
       "      <td>37.0</td>\n",
       "      <td>0</td>\n",
       "      <td>1</td>\n",
       "      <td>2</td>\n",
       "      <td>2</td>\n",
       "      <td>2017</td>\n",
       "      <td>-0.871499</td>\n",
       "      <td>0.759511</td>\n",
       "    </tr>\n",
       "    <tr>\n",
       "      <th>2017-02-01 01:53:00</th>\n",
       "      <td>1379.505</td>\n",
       "      <td>37.0</td>\n",
       "      <td>1</td>\n",
       "      <td>1</td>\n",
       "      <td>2</td>\n",
       "      <td>2</td>\n",
       "      <td>2017</td>\n",
       "      <td>-0.871499</td>\n",
       "      <td>0.759511</td>\n",
       "    </tr>\n",
       "    <tr>\n",
       "      <th>2017-02-01 02:53:00</th>\n",
       "      <td>1366.106</td>\n",
       "      <td>36.0</td>\n",
       "      <td>2</td>\n",
       "      <td>1</td>\n",
       "      <td>2</td>\n",
       "      <td>2</td>\n",
       "      <td>2017</td>\n",
       "      <td>-0.924494</td>\n",
       "      <td>0.854690</td>\n",
       "    </tr>\n",
       "    <tr>\n",
       "      <th>2017-02-01 03:53:00</th>\n",
       "      <td>1364.453</td>\n",
       "      <td>36.0</td>\n",
       "      <td>3</td>\n",
       "      <td>1</td>\n",
       "      <td>2</td>\n",
       "      <td>2</td>\n",
       "      <td>2017</td>\n",
       "      <td>-0.924494</td>\n",
       "      <td>0.854690</td>\n",
       "    </tr>\n",
       "    <tr>\n",
       "      <th>2017-02-01 04:53:00</th>\n",
       "      <td>1391.265</td>\n",
       "      <td>36.0</td>\n",
       "      <td>4</td>\n",
       "      <td>1</td>\n",
       "      <td>2</td>\n",
       "      <td>2</td>\n",
       "      <td>2017</td>\n",
       "      <td>-0.924494</td>\n",
       "      <td>0.854690</td>\n",
       "    </tr>\n",
       "  </tbody>\n",
       "</table>\n",
       "</div>"
      ],
      "text/plain": [
       "                           MW  Temp  hour  day  weekday  month  year  \\\n",
       "Date                                                                   \n",
       "2017-02-01 00:53:00  1419.881  37.0     0    1        2      2  2017   \n",
       "2017-02-01 01:53:00  1379.505  37.0     1    1        2      2  2017   \n",
       "2017-02-01 02:53:00  1366.106  36.0     2    1        2      2  2017   \n",
       "2017-02-01 03:53:00  1364.453  36.0     3    1        2      2  2017   \n",
       "2017-02-01 04:53:00  1391.265  36.0     4    1        2      2  2017   \n",
       "\n",
       "                     Temp_Norm  Temp_Norm2  \n",
       "Date                                        \n",
       "2017-02-01 00:53:00  -0.871499    0.759511  \n",
       "2017-02-01 01:53:00  -0.871499    0.759511  \n",
       "2017-02-01 02:53:00  -0.924494    0.854690  \n",
       "2017-02-01 03:53:00  -0.924494    0.854690  \n",
       "2017-02-01 04:53:00  -0.924494    0.854690  "
      ]
     },
     "execution_count": 21,
     "metadata": {},
     "output_type": "execute_result"
    }
   ],
   "source": [
    "train.head()"
   ]
  },
  {
   "cell_type": "markdown",
   "metadata": {},
   "source": [
    "Great! Now we have the foundation of building a model. \n",
    "\n",
    "The naive energy model is just a linear regression model. It will use the terms that we already identified as potentially impacting the energy usage - hour of day, day of week, month of year, temperature, and temperature's quadratic term. The ```OLS.from_formula``` function in the statsmodels module will take care of this for us. We can then use the ```summary``` function to view our results."
   ]
  },
  {
   "cell_type": "code",
   "execution_count": 22,
   "metadata": {},
   "outputs": [
    {
     "name": "stdout",
     "output_type": "stream",
     "text": [
      "                            OLS Regression Results                            \n",
      "==============================================================================\n",
      "Dep. Variable:                     MW   R-squared:                       0.840\n",
      "Model:                            OLS   Adj. R-squared:                  0.839\n",
      "Method:                 Least Squares   F-statistic:                     3180.\n",
      "Date:                Wed, 07 Oct 2020   Prob (F-statistic):               0.00\n",
      "Time:                        15:53:41   Log-Likelihood:            -1.5735e+05\n",
      "No. Observations:               25536   AIC:                         3.148e+05\n",
      "Df Residuals:                   25493   BIC:                         3.151e+05\n",
      "Df Model:                          42                                         \n",
      "Covariance Type:            nonrobust                                         \n",
      "===================================================================================\n",
      "                      coef    std err          t      P>|t|      [0.025      0.975]\n",
      "-----------------------------------------------------------------------------------\n",
      "Intercept        1272.0274      5.426    234.419      0.000    1261.392    1282.663\n",
      "C(weekday)[T.1]     9.8039      2.691      3.644      0.000       4.530      15.077\n",
      "C(weekday)[T.2]    21.1134      2.693      7.841      0.000      15.836      26.391\n",
      "C(weekday)[T.3]    17.4519      2.693      6.481      0.000      12.174      22.730\n",
      "C(weekday)[T.4]     1.3846      2.693      0.514      0.607      -3.893       6.662\n",
      "C(weekday)[T.5]   -99.3658      2.693    -36.902      0.000    -104.644     -94.088\n",
      "C(weekday)[T.6]  -115.8115      2.690    -43.048      0.000    -121.085    -110.538\n",
      "C(hour)[T.1]      -30.6108      4.981     -6.146      0.000     -40.373     -20.848\n",
      "C(hour)[T.2]      -45.1860      4.981     -9.071      0.000     -54.950     -35.422\n",
      "C(hour)[T.3]      -37.6119      4.982     -7.549      0.000     -47.377     -27.846\n",
      "C(hour)[T.4]        3.7713      4.983      0.757      0.449      -5.996      13.539\n",
      "C(hour)[T.5]       70.9284      4.984     14.232      0.000      61.160      80.697\n",
      "C(hour)[T.6]      137.3154      4.982     27.562      0.000     127.550     147.081\n",
      "C(hour)[T.7]      187.4329      4.981     37.628      0.000     177.669     197.196\n",
      "C(hour)[T.8]      222.5454      4.985     44.644      0.000     212.775     232.316\n",
      "C(hour)[T.9]      248.4646      4.995     49.739      0.000     238.673     258.256\n",
      "C(hour)[T.10]     263.4295      5.011     52.571      0.000     253.608     273.251\n",
      "C(hour)[T.11]     272.4943      5.027     54.207      0.000     262.641     282.347\n",
      "C(hour)[T.12]     277.6490      5.042     55.065      0.000     267.766     287.532\n",
      "C(hour)[T.13]     278.7407      5.052     55.175      0.000     268.839     288.643\n",
      "C(hour)[T.14]     277.4274      5.056     54.868      0.000     267.517     287.338\n",
      "C(hour)[T.15]     285.2792      5.051     56.477      0.000     275.378     295.180\n",
      "C(hour)[T.16]     298.7924      5.039     59.300      0.000     288.916     308.668\n",
      "C(hour)[T.17]     316.5233      5.023     63.021      0.000     306.679     326.368\n",
      "C(hour)[T.18]     324.6099      5.006     64.839      0.000     314.797     334.423\n",
      "C(hour)[T.19]     321.9333      4.994     64.458      0.000     312.144     331.723\n",
      "C(hour)[T.20]     290.1282      4.988     58.163      0.000     280.351     299.905\n",
      "C(hour)[T.21]     216.6446      4.984     43.466      0.000     206.875     226.414\n",
      "C(hour)[T.22]     127.7315      4.982     25.639      0.000     117.967     137.496\n",
      "C(hour)[T.23]      50.5350      4.981     10.146      0.000      40.772      60.298\n",
      "C(month)[T.2]      17.8145      4.079      4.367      0.000       9.819      25.810\n",
      "C(month)[T.3]     -11.2371      4.002     -2.808      0.005     -19.081      -3.393\n",
      "C(month)[T.4]    -126.7104      4.399    -28.803      0.000    -135.333    -118.088\n",
      "C(month)[T.5]    -125.2755      4.735    -26.455      0.000    -134.557    -115.994\n",
      "C(month)[T.6]     -29.4596      4.951     -5.950      0.000     -39.164     -19.755\n",
      "C(month)[T.7]      89.7562      5.169     17.364      0.000      79.624      99.888\n",
      "C(month)[T.8]      39.9371      5.022      7.953      0.000      30.095      49.780\n",
      "C(month)[T.9]     -43.9733      4.899     -8.975      0.000     -53.576     -34.370\n",
      "C(month)[T.10]    -88.8678      4.483    -19.824      0.000     -97.654     -80.081\n",
      "C(month)[T.11]     -2.2879      4.105     -0.557      0.577     -10.333       5.757\n",
      "C(month)[T.12]     31.3287      3.942      7.947      0.000      23.602      39.055\n",
      "Temp_Norm         128.9851      1.487     86.748      0.000     126.071     131.900\n",
      "Temp_Norm2        151.5309      0.781    194.015      0.000     150.000     153.062\n",
      "==============================================================================\n",
      "Omnibus:                      677.532   Durbin-Watson:                   0.101\n",
      "Prob(Omnibus):                  0.000   Jarque-Bera (JB):             1684.679\n",
      "Skew:                           0.031   Prob(JB):                         0.00\n",
      "Kurtosis:                       4.257   Cond. No.                         42.8\n",
      "==============================================================================\n",
      "\n",
      "Warnings:\n",
      "[1] Standard Errors assume that the covariance matrix of the errors is correctly specified.\n"
     ]
    }
   ],
   "source": [
    "results = sm.OLS.from_formula('MW ~ Temp_Norm + Temp_Norm2 + C(weekday) + C(hour) + C(month)', data=train).fit()\n",
    "print(results.summary())"
   ]
  },
  {
   "cell_type": "markdown",
   "metadata": {},
   "source": [
    "From above it looks like all the variables appear to statistically be related to energy. Our model is off to a great start! Let's try to add additional terms to our model to improve it.\n",
    "\n",
    "We already checked if month and temperature have separate impacts on energy usage. However, from the plots we saw earlier we also hypothesized that the effect of temperature was different in different months. Let's try to visualize that here. The following code highlights the months of January and July in our previous temperature by energy usage scatter plot."
   ]
  },
  {
   "cell_type": "code",
   "execution_count": 23,
   "metadata": {},
   "outputs": [
    {
     "name": "stderr",
     "output_type": "stream",
     "text": [
      "C:\\Users\\adlabarr\\Anaconda3\\lib\\site-packages\\ipykernel_launcher.py:6: MatplotlibDeprecationWarning: Adding an axes using the same arguments as a previous axes currently reuses the earlier instance.  In a future version, a new instance will always be created and returned.  Meanwhile, this warning can be suppressed, and the future behavior ensured, by passing a unique label to each axes instance.\n",
      "  \n"
     ]
    },
    {
     "data": {
      "image/png": "[encoded data removed]",
      "text/plain": [
       "<Figure size 432x288 with 1 Axes>"
      ]
     },
     "metadata": {
      "needs_background": "light"
     },
     "output_type": "display_data"
    }
   ],
   "source": [
    "plt.subplot()\n",
    "plt.scatter(train['Temp'].where(train['month'] == 1), train['MW'].where(train['month'] == 1), alpha = 0.2)\n",
    "plt.xlabel('Temperature (Degrees F)')\n",
    "plt.ylabel('MW Hours')\n",
    "\n",
    "plt.subplot()\n",
    "plt.scatter(train['Temp'].where(train['month'] == 7), train['MW'].where(train['month'] == 7), alpha = 0.2)\n",
    "plt.xlabel('Temperature (Degrees F)')\n",
    "plt.ylabel('MW Hours')\n",
    "\n",
    "plt.show()"
   ]
  },
  {
   "cell_type": "markdown",
   "metadata": {},
   "source": [
    "What does this show us? It shows exactly what we saw in milestone 2! It looks like in July, temperature has a different relationship with energy than in January. This different relationship is called an interaction. Luckily these can easily be added into models. Let's check if the same phenomenom exists across different hours. The following highlights the hours of midnight and noon for our temperature by energy scatter plot."
   ]
  },
  {
   "cell_type": "code",
   "execution_count": 24,
   "metadata": {},
   "outputs": [
    {
     "name": "stderr",
     "output_type": "stream",
     "text": [
      "C:\\Users\\adlabarr\\Anaconda3\\lib\\site-packages\\ipykernel_launcher.py:6: MatplotlibDeprecationWarning: Adding an axes using the same arguments as a previous axes currently reuses the earlier instance.  In a future version, a new instance will always be created and returned.  Meanwhile, this warning can be suppressed, and the future behavior ensured, by passing a unique label to each axes instance.\n",
      "  \n"
     ]
    },
    {
     "data": {
      "image/png": "[encoded data removed]",
      "text/plain": [
       "<Figure size 432x288 with 1 Axes>"
      ]
     },
     "metadata": {
      "needs_background": "light"
     },
     "output_type": "display_data"
    }
   ],
   "source": [
    "plt.subplot()\n",
    "plt.scatter(train['Temp'].where(train['hour'] == 0), train['MW'].where(train['hour'] == 0), alpha = 0.2)\n",
    "plt.xlabel('Temperature (Degrees F)')\n",
    "plt.ylabel('MW Hours')\n",
    "\n",
    "plt.subplot()\n",
    "plt.scatter(train['Temp'].where(train['hour'] == 12), train['MW'].where(train['hour'] == 12), alpha = 0.2)\n",
    "plt.xlabel('Temperature (Degrees F)')\n",
    "plt.ylabel('MW Hours')\n",
    "\n",
    "plt.show()"
   ]
  },
  {
   "cell_type": "markdown",
   "metadata": {},
   "source": [
    "Again, it looks like some differences are occurring. Not surprisingly, people react more to temperature changes when they are awake as compared to when they are asleep. Let's incorporate these interactions with temperature (and its quadratic term) with hour and month. Also, in milestone 2 we noticed that hours were different on weekends compared to weekdays for energy usage so let's also interact hour and weekday."
   ]
  },
  {
   "cell_type": "code",
   "execution_count": 25,
   "metadata": {},
   "outputs": [
    {
     "name": "stdout",
     "output_type": "stream",
     "text": [
      "                            OLS Regression Results                            \n",
      "==============================================================================\n",
      "Dep. Variable:                     MW   R-squared:                       0.924\n",
      "Model:                            OLS   Adj. R-squared:                  0.924\n",
      "Method:                 Least Squares   F-statistic:                     1248.\n",
      "Date:                Wed, 07 Oct 2020   Prob (F-statistic):               0.00\n",
      "Time:                        15:53:46   Log-Likelihood:            -1.4774e+05\n",
      "No. Observations:               25536   AIC:                         2.960e+05\n",
      "Df Residuals:                   25287   BIC:                         2.980e+05\n",
      "Df Model:                         248                                         \n",
      "Covariance Type:            nonrobust                                         \n",
      "=================================================================================================\n",
      "                                    coef    std err          t      P>|t|      [0.025      0.975]\n",
      "-------------------------------------------------------------------------------------------------\n",
      "Intercept                      1229.6515      9.041    136.011      0.000    1211.931    1247.372\n",
      "C(hour)[T.1]                    -21.5265      9.497     -2.267      0.023     -40.141      -2.912\n",
      "C(hour)[T.2]                    -25.0718      9.485     -2.643      0.008     -43.663      -6.480\n",
      "C(hour)[T.3]                     -6.9363      9.475     -0.732      0.464     -25.507      11.635\n",
      "C(hour)[T.4]                     48.0591      9.474      5.073      0.000      29.489      66.629\n",
      "C(hour)[T.5]                    136.7171      9.474     14.431      0.000     118.147     155.287\n",
      "C(hour)[T.6]                    211.4750      9.493     22.276      0.000     192.867     230.083\n",
      "C(hour)[T.7]                    259.9536      9.525     27.291      0.000     241.283     278.624\n",
      "C(hour)[T.8]                    291.9217      9.566     30.516      0.000     273.171     310.672\n",
      "C(hour)[T.9]                    312.8325      9.618     32.525      0.000     293.980     331.685\n",
      "C(hour)[T.10]                   324.4094      9.647     33.629      0.000     305.501     343.317\n",
      "C(hour)[T.11]                   326.6089      9.663     33.799      0.000     307.668     345.550\n",
      "C(hour)[T.12]                   333.2134      9.653     34.520      0.000     314.294     352.133\n",
      "C(hour)[T.13]                   320.6632      9.675     33.145      0.000     301.700     339.626\n",
      "C(hour)[T.14]                   309.1144      9.674     31.952      0.000     290.152     328.077\n",
      "C(hour)[T.15]                   302.4094      9.675     31.257      0.000     283.446     321.373\n",
      "C(hour)[T.16]                   308.6771      9.664     31.942      0.000     289.736     327.618\n",
      "C(hour)[T.17]                   328.0391      9.641     34.027      0.000     309.143     346.935\n",
      "C(hour)[T.18]                   341.0574      9.618     35.462      0.000     322.206     359.908\n",
      "C(hour)[T.19]                   336.0446      9.594     35.028      0.000     317.241     354.849\n",
      "C(hour)[T.20]                   297.8209      9.576     31.099      0.000     279.051     316.591\n",
      "C(hour)[T.21]                   219.9381      9.564     22.997      0.000     201.192     238.684\n",
      "C(hour)[T.22]                   126.9058      9.548     13.292      0.000     108.192     145.620\n",
      "C(hour)[T.23]                    50.0603      9.534      5.251      0.000      31.373      68.748\n",
      "C(month)[T.2]                   -10.9536      6.587     -1.663      0.096     -23.864       1.957\n",
      "C(month)[T.3]                   -58.4207      6.602     -8.848      0.000     -71.362     -45.480\n",
      "C(month)[T.4]                  -110.3894      6.439    -17.143      0.000    -123.011     -97.768\n",
      "C(month)[T.5]                  -122.2577      6.548    -18.671      0.000    -135.092    -109.423\n",
      "C(month)[T.6]                  -105.6638      8.055    -13.117      0.000    -121.453     -89.875\n",
      "C(month)[T.7]                   -87.2652     14.169     -6.159      0.000    -115.037     -59.494\n",
      "C(month)[T.8]                   -80.4514     11.193     -7.187      0.000    -102.391     -58.512\n",
      "C(month)[T.9]                   -91.9013      7.370    -12.470      0.000    -106.347     -77.456\n",
      "C(month)[T.10]                 -111.9445      6.423    -17.428      0.000    -124.535     -99.354\n",
      "C(month)[T.11]                  -45.0605      6.751     -6.675      0.000     -58.293     -31.828\n",
      "C(month)[T.12]                  -18.2699      7.454     -2.451      0.014     -32.881      -3.659\n",
      "C(weekday)[T.1]                   6.1527      9.085      0.677      0.498     -11.654      23.960\n",
      "C(weekday)[T.2]                  32.7819      9.087      3.608      0.000      14.971      50.593\n",
      "C(weekday)[T.3]                  37.2304      9.092      4.095      0.000      19.409      55.052\n",
      "C(weekday)[T.4]                  37.0628      9.087      4.078      0.000      19.251      54.875\n",
      "C(weekday)[T.5]                  17.1413      9.087      1.886      0.059      -0.670      34.953\n",
      "C(weekday)[T.6]                  -9.1433      9.083     -1.007      0.314     -26.947       8.660\n",
      "C(weekday)[T.1]:C(hour)[T.1]      1.2708     12.844      0.099      0.921     -23.905      26.446\n",
      "C(weekday)[T.2]:C(hour)[T.1]     -7.0511     12.848     -0.549      0.583     -32.233      18.131\n",
      "C(weekday)[T.3]:C(hour)[T.1]     -1.0763     12.852     -0.084      0.933     -26.268      24.115\n",
      "C(weekday)[T.4]:C(hour)[T.1]     -0.0966     12.845     -0.008      0.994     -25.273      25.080\n",
      "C(weekday)[T.5]:C(hour)[T.1]     -5.4920     12.846     -0.428      0.669     -30.671      19.687\n",
      "C(weekday)[T.6]:C(hour)[T.1]     -2.4908     12.843     -0.194      0.846     -27.664      22.682\n",
      "C(weekday)[T.1]:C(hour)[T.2]     -4.6528     12.844     -0.362      0.717     -29.828      20.523\n",
      "C(weekday)[T.2]:C(hour)[T.2]     -6.1394     12.847     -0.478      0.633     -31.320      19.041\n",
      "C(weekday)[T.3]:C(hour)[T.2]    -11.4852     12.854     -0.894      0.372     -36.679      13.709\n",
      "C(weekday)[T.4]:C(hour)[T.2]     -9.3409     12.845     -0.727      0.467     -34.518      15.836\n",
      "C(weekday)[T.5]:C(hour)[T.2]    -20.8512     12.846     -1.623      0.105     -46.031       4.328\n",
      "C(weekday)[T.6]:C(hour)[T.2]    -16.2096     12.843     -1.262      0.207     -41.382       8.963\n",
      "C(weekday)[T.1]:C(hour)[T.3]     -4.5071     12.844     -0.351      0.726     -29.682      20.668\n",
      "C(weekday)[T.2]:C(hour)[T.3]     -8.5981     12.846     -0.669      0.503     -33.778      16.581\n",
      "C(weekday)[T.3]:C(hour)[T.3]    -13.8075     12.853     -1.074      0.283     -39.000      11.385\n",
      "C(weekday)[T.4]:C(hour)[T.3]    -12.3027     12.845     -0.958      0.338     -37.480      12.874\n",
      "C(weekday)[T.5]:C(hour)[T.3]    -34.6792     12.846     -2.700      0.007     -59.859      -9.499\n",
      "C(weekday)[T.6]:C(hour)[T.3]    -37.6174     12.843     -2.929      0.003     -62.791     -12.444\n",
      "C(weekday)[T.1]:C(hour)[T.4]     -5.2068     12.844     -0.405      0.685     -30.383      19.969\n",
      "C(weekday)[T.2]:C(hour)[T.4]     -6.0556     12.846     -0.471      0.637     -31.234      19.123\n",
      "C(weekday)[T.3]:C(hour)[T.4]     -9.5735     12.852     -0.745      0.456     -34.765      15.618\n",
      "C(weekday)[T.4]:C(hour)[T.4]    -12.6740     12.845     -0.987      0.324     -37.851      12.503\n",
      "C(weekday)[T.5]:C(hour)[T.4]    -67.7274     12.846     -5.272      0.000     -92.907     -42.548\n",
      "C(weekday)[T.6]:C(hour)[T.4]    -79.0581     12.844     -6.155      0.000    -104.232     -53.884\n",
      "C(weekday)[T.1]:C(hour)[T.5]     -3.4440     12.845     -0.268      0.789     -28.620      21.732\n",
      "C(weekday)[T.2]:C(hour)[T.5]     -1.9474     12.846     -0.152      0.880     -27.125      23.231\n",
      "C(weekday)[T.3]:C(hour)[T.5]     -8.4281     12.852     -0.656      0.512     -33.619      16.763\n",
      "C(weekday)[T.4]:C(hour)[T.5]    -12.5802     12.845     -0.979      0.327     -37.757      12.596\n",
      "C(weekday)[T.5]:C(hour)[T.5]   -128.9868     12.846    -10.041      0.000    -154.166    -103.807\n",
      "C(weekday)[T.6]:C(hour)[T.5]   -149.5590     12.843    -11.645      0.000    -174.733    -124.385\n",
      "C(weekday)[T.1]:C(hour)[T.6]      5.4641     12.844      0.425      0.671     -19.711      30.640\n",
      "C(weekday)[T.2]:C(hour)[T.6]      3.7926     12.846      0.295      0.768     -21.386      28.972\n",
      "C(weekday)[T.3]:C(hour)[T.6]     -3.2823     12.852     -0.255      0.798     -28.473      21.908\n",
      "C(weekday)[T.4]:C(hour)[T.6]     -5.9154     12.845     -0.461      0.645     -31.092      19.261\n",
      "C(weekday)[T.5]:C(hour)[T.6]   -173.4048     12.847    -13.498      0.000    -198.585    -148.225\n",
      "C(weekday)[T.6]:C(hour)[T.6]   -203.5208     12.843    -15.847      0.000    -228.694    -178.348\n",
      "C(weekday)[T.1]:C(hour)[T.7]      8.3028     12.844      0.646      0.518     -16.873      33.479\n",
      "C(weekday)[T.2]:C(hour)[T.7]      4.2140     12.847      0.328      0.743     -20.967      29.395\n",
      "C(weekday)[T.3]:C(hour)[T.7]      1.5437     12.851      0.120      0.904     -23.646      26.733\n",
      "C(weekday)[T.4]:C(hour)[T.7]     -3.0864     12.845     -0.240      0.810     -28.263      22.090\n",
      "C(weekday)[T.5]:C(hour)[T.7]   -174.5214     12.846    -13.585      0.000    -199.701    -149.342\n",
      "C(weekday)[T.6]:C(hour)[T.7]   -213.6351     12.843    -16.635      0.000    -238.808    -188.462\n",
      "C(weekday)[T.1]:C(hour)[T.8]      6.2398     12.845      0.486      0.627     -18.938      31.418\n",
      "C(weekday)[T.2]:C(hour)[T.8]      0.2350     12.848      0.018      0.985     -24.947      25.417\n",
      "C(weekday)[T.3]:C(hour)[T.8]     -0.9942     12.852     -0.077      0.938     -26.184      24.196\n",
      "C(weekday)[T.4]:C(hour)[T.8]     -4.2566     12.845     -0.331      0.740     -29.434      20.921\n",
      "C(weekday)[T.5]:C(hour)[T.8]   -160.6811     12.847    -12.508      0.000    -185.861    -135.501\n",
      "C(weekday)[T.6]:C(hour)[T.8]   -202.4275     12.843    -15.762      0.000    -227.601    -177.254\n",
      "C(weekday)[T.1]:C(hour)[T.9]      7.3545     12.846      0.573      0.567     -17.824      32.533\n",
      "C(weekday)[T.2]:C(hour)[T.9]     -8.6074     12.849     -0.670      0.503     -33.792      16.577\n",
      "C(weekday)[T.3]:C(hour)[T.9]     -4.3096     12.852     -0.335      0.737     -29.500      20.880\n",
      "C(weekday)[T.4]:C(hour)[T.9]     -5.2384     12.846     -0.408      0.683     -30.417      19.940\n",
      "C(weekday)[T.5]:C(hour)[T.9]   -151.5667     12.848    -11.797      0.000    -176.749    -126.385\n",
      "C(weekday)[T.6]:C(hour)[T.9]   -187.9846     12.843    -14.637      0.000    -213.158    -162.811\n",
      "C(weekday)[T.1]:C(hour)[T.10]     4.3423     12.847      0.338      0.735     -20.839      29.523\n",
      "C(weekday)[T.2]:C(hour)[T.10]   -12.2992     12.851     -0.957      0.339     -37.487      12.889\n",
      "C(weekday)[T.3]:C(hour)[T.10]    -5.4245     12.852     -0.422      0.673     -30.615      19.766\n",
      "C(weekday)[T.4]:C(hour)[T.10]   -11.1744     12.847     -0.870      0.384     -36.355      14.006\n",
      "C(weekday)[T.5]:C(hour)[T.10]  -153.6771     12.848    -11.961      0.000    -178.860    -128.495\n",
      "C(weekday)[T.6]:C(hour)[T.10]  -177.2951     12.844    -13.804      0.000    -202.469    -152.121\n",
      "C(weekday)[T.1]:C(hour)[T.11]     3.8983     12.848      0.303      0.762     -21.284      29.081\n",
      "C(weekday)[T.2]:C(hour)[T.11]   -12.1382     12.852     -0.944      0.345     -37.328      13.052\n",
      "C(weekday)[T.3]:C(hour)[T.11]    -7.2745     12.853     -0.566      0.571     -32.466      17.917\n",
      "C(weekday)[T.4]:C(hour)[T.11]   -19.2054     12.848     -1.495      0.135     -44.388       5.977\n",
      "C(weekday)[T.5]:C(hour)[T.11]  -155.4069     12.849    -12.095      0.000    -180.591    -130.223\n",
      "C(weekday)[T.6]:C(hour)[T.11]  -174.2920     12.844    -13.570      0.000    -199.467    -149.117\n",
      "C(weekday)[T.1]:C(hour)[T.12]    -6.0155     12.850     -0.468      0.640     -31.203      19.172\n",
      "C(weekday)[T.2]:C(hour)[T.12]   -19.4370     12.855     -1.512      0.131     -44.633       5.759\n",
      "C(weekday)[T.3]:C(hour)[T.12]   -15.7628     12.855     -1.226      0.220     -40.959       9.433\n",
      "C(weekday)[T.4]:C(hour)[T.12]   -26.9476     12.849     -2.097      0.036     -52.133      -1.762\n",
      "C(weekday)[T.5]:C(hour)[T.12]  -173.4917     12.849    -13.502      0.000    -198.677    -148.306\n",
      "C(weekday)[T.6]:C(hour)[T.12]  -174.9069     12.845    -13.617      0.000    -200.083    -149.731\n",
      "C(weekday)[T.1]:C(hour)[T.13]     4.2963     12.850      0.334      0.738     -20.890      29.483\n",
      "C(weekday)[T.2]:C(hour)[T.13]    -8.5240     12.853     -0.663      0.507     -33.717      16.669\n",
      "C(weekday)[T.3]:C(hour)[T.13]    -8.0834     12.854     -0.629      0.529     -33.278      17.111\n",
      "C(weekday)[T.4]:C(hour)[T.13]   -19.2660     12.849     -1.499      0.134     -44.451       5.919\n",
      "C(weekday)[T.5]:C(hour)[T.13]  -168.8350     12.850    -13.139      0.000    -194.021    -143.649\n",
      "C(weekday)[T.6]:C(hour)[T.13]  -156.0927     12.846    -12.151      0.000    -181.271    -130.914\n",
      "C(weekday)[T.1]:C(hour)[T.14]     3.5832     12.853      0.279      0.780     -21.609      28.775\n",
      "C(weekday)[T.2]:C(hour)[T.14]   -10.7601     12.854     -0.837      0.403     -35.956      14.435\n",
      "C(weekday)[T.3]:C(hour)[T.14]    -9.4850     12.855     -0.738      0.461     -34.682      15.712\n",
      "C(weekday)[T.4]:C(hour)[T.14]   -29.6413     12.851     -2.307      0.021     -54.830      -4.453\n",
      "C(weekday)[T.5]:C(hour)[T.14]  -169.1355     12.850    -13.162      0.000    -194.323    -143.948\n",
      "C(weekday)[T.6]:C(hour)[T.14]  -146.4668     12.846    -11.402      0.000    -171.646    -121.288\n",
      "C(weekday)[T.1]:C(hour)[T.15]     7.6746     12.852      0.597      0.550     -17.515      32.864\n",
      "C(weekday)[T.2]:C(hour)[T.15]    -7.8948     12.853     -0.614      0.539     -33.087      17.298\n",
      "C(weekday)[T.3]:C(hour)[T.15]    -4.4390     12.854     -0.345      0.730     -29.633      20.755\n",
      "C(weekday)[T.4]:C(hour)[T.15]   -36.2094     12.851     -2.818      0.005     -61.398     -11.021\n",
      "C(weekday)[T.5]:C(hour)[T.15]  -151.9363     12.851    -11.823      0.000    -177.124    -126.748\n",
      "C(weekday)[T.6]:C(hour)[T.15]  -131.3300     12.846    -10.224      0.000    -156.509    -106.151\n",
      "C(weekday)[T.1]:C(hour)[T.16]    10.1146     12.852      0.787      0.431     -15.075      35.304\n",
      "C(weekday)[T.2]:C(hour)[T.16]   -13.4999     12.855     -1.050      0.294     -38.696      11.696\n",
      "C(weekday)[T.3]:C(hour)[T.16]    -3.8428     12.853     -0.299      0.765     -29.036      21.351\n",
      "C(weekday)[T.4]:C(hour)[T.16]   -41.0287     12.850     -3.193      0.001     -66.216     -15.841\n",
      "C(weekday)[T.5]:C(hour)[T.16]  -150.7744     12.850    -11.733      0.000    -175.961    -125.588\n",
      "C(weekday)[T.6]:C(hour)[T.16]  -107.2603     12.846     -8.350      0.000    -132.438     -82.082\n",
      "C(weekday)[T.1]:C(hour)[T.17]     6.1321     12.851      0.477      0.633     -19.057      31.321\n",
      "C(weekday)[T.2]:C(hour)[T.17]   -15.8141     12.854     -1.230      0.219     -41.009       9.381\n",
      "C(weekday)[T.3]:C(hour)[T.17]   -13.7108     12.853     -1.067      0.286     -38.904      11.483\n",
      "C(weekday)[T.4]:C(hour)[T.17]   -60.7848     12.851     -4.730      0.000     -85.973     -35.597\n",
      "C(weekday)[T.5]:C(hour)[T.17]  -141.3721     12.850    -11.002      0.000    -166.558    -116.186\n",
      "C(weekday)[T.6]:C(hour)[T.17]   -95.5304     12.845     -7.437      0.000    -120.707     -70.354\n",
      "C(weekday)[T.1]:C(hour)[T.18]     2.1231     12.851      0.165      0.869     -23.065      27.311\n",
      "C(weekday)[T.2]:C(hour)[T.18]   -14.7173     12.853     -1.145      0.252     -39.910      10.475\n",
      "C(weekday)[T.3]:C(hour)[T.18]   -18.6454     12.853     -1.451      0.147     -43.838       6.547\n",
      "C(weekday)[T.4]:C(hour)[T.18]   -74.4545     12.851     -5.794      0.000     -99.643     -49.266\n",
      "C(weekday)[T.5]:C(hour)[T.18]  -134.3285     12.850    -10.454      0.000    -159.515    -109.142\n",
      "C(weekday)[T.6]:C(hour)[T.18]   -89.5318     12.845     -6.970      0.000    -114.708     -64.355\n",
      "C(weekday)[T.1]:C(hour)[T.19]     2.9413     12.851      0.229      0.819     -22.247      28.130\n",
      "C(weekday)[T.2]:C(hour)[T.19]    -6.7866     12.852     -0.528      0.597     -31.977      18.404\n",
      "C(weekday)[T.3]:C(hour)[T.19]   -16.1142     12.852     -1.254      0.210     -41.305       9.077\n",
      "C(weekday)[T.4]:C(hour)[T.19]   -72.3864     12.851     -5.633      0.000     -97.574     -47.198\n",
      "C(weekday)[T.5]:C(hour)[T.19]  -126.0005     12.850     -9.806      0.000    -151.187    -100.814\n",
      "C(weekday)[T.6]:C(hour)[T.19]   -74.0456     12.845     -5.765      0.000     -99.222     -48.870\n",
      "C(weekday)[T.1]:C(hour)[T.20]     4.2810     12.851      0.333      0.739     -20.908      29.470\n",
      "C(weekday)[T.2]:C(hour)[T.20]   -10.0548     12.852     -0.782      0.434     -35.245      15.136\n",
      "C(weekday)[T.3]:C(hour)[T.20]   -15.0396     12.852     -1.170      0.242     -40.231      10.151\n",
      "C(weekday)[T.4]:C(hour)[T.20]   -65.5416     12.850     -5.101      0.000     -90.728     -40.355\n",
      "C(weekday)[T.5]:C(hour)[T.20]  -106.0449     12.849     -8.253      0.000    -131.231     -80.859\n",
      "C(weekday)[T.6]:C(hour)[T.20]   -52.1952     12.845     -4.064      0.000     -77.372     -27.019\n",
      "C(weekday)[T.1]:C(hour)[T.21]    10.6535     12.851      0.829      0.407     -14.534      35.841\n",
      "C(weekday)[T.2]:C(hour)[T.21]   -14.8287     12.852     -1.154      0.249     -40.020      10.362\n",
      "C(weekday)[T.3]:C(hour)[T.21]   -18.6243     12.852     -1.449      0.147     -43.816       6.567\n",
      "C(weekday)[T.4]:C(hour)[T.21]   -50.5523     12.850     -3.934      0.000     -75.740     -25.365\n",
      "C(weekday)[T.5]:C(hour)[T.21]   -80.5735     12.850     -6.270      0.000    -105.760     -55.387\n",
      "C(weekday)[T.6]:C(hour)[T.21]   -35.5806     12.845     -2.770      0.006     -60.757     -10.404\n",
      "C(weekday)[T.1]:C(hour)[T.22]    13.5161     12.851      1.052      0.293     -11.672      38.705\n",
      "C(weekday)[T.2]:C(hour)[T.22]   -11.4437     12.852     -0.890      0.373     -36.635      13.748\n",
      "C(weekday)[T.3]:C(hour)[T.22]   -12.9284     12.852     -1.006      0.314     -38.120      12.263\n",
      "C(weekday)[T.4]:C(hour)[T.22]   -35.8049     12.851     -2.786      0.005     -60.993     -10.617\n",
      "C(weekday)[T.5]:C(hour)[T.22]   -48.8802     12.850     -3.804      0.000     -74.067     -23.693\n",
      "C(weekday)[T.6]:C(hour)[T.22]   -16.6274     12.845     -1.294      0.196     -41.804       8.549\n",
      "C(weekday)[T.1]:C(hour)[T.23]    15.8422     12.852      1.233      0.218      -9.348      41.032\n",
      "C(weekday)[T.2]:C(hour)[T.23]    -5.2718     12.853     -0.410      0.682     -30.463      19.920\n",
      "C(weekday)[T.3]:C(hour)[T.23]    -6.3897     12.853     -0.497      0.619     -31.581      18.802\n",
      "C(weekday)[T.4]:C(hour)[T.23]   -23.8773     12.852     -1.858      0.063     -49.067       1.313\n",
      "C(weekday)[T.5]:C(hour)[T.23]   -31.3646     12.851     -2.441      0.015     -56.553      -6.176\n",
      "C(weekday)[T.6]:C(hour)[T.23]    -0.4384     12.846     -0.034      0.973     -25.617      24.740\n",
      "Temp_Norm                       -68.6609      9.453     -7.263      0.000     -87.190     -50.132\n",
      "Temp_Norm:C(hour)[T.1]           -5.3790      5.038     -1.068      0.286     -15.254       4.496\n",
      "Temp_Norm:C(hour)[T.2]           -2.1789      5.163     -0.422      0.673     -12.298       7.940\n",
      "Temp_Norm:C(hour)[T.3]            3.6797      5.259      0.700      0.484      -6.628      13.988\n",
      "Temp_Norm:C(hour)[T.4]           15.8257      5.331      2.969      0.003       5.377      26.275\n",
      "Temp_Norm:C(hour)[T.5]           10.0501      5.315      1.891      0.059      -0.367      20.467\n",
      "Temp_Norm:C(hour)[T.6]          -18.3154      5.090     -3.598      0.000     -28.292      -8.339\n",
      "Temp_Norm:C(hour)[T.7]          -37.3330      4.765     -7.834      0.000     -46.673     -27.993\n",
      "Temp_Norm:C(hour)[T.8]          -47.7697      4.505    -10.603      0.000     -56.601     -38.939\n",
      "Temp_Norm:C(hour)[T.9]          -57.0840      4.347    -13.131      0.000     -65.605     -48.563\n",
      "Temp_Norm:C(hour)[T.10]         -61.0501      4.286    -14.245      0.000     -69.450     -52.650\n",
      "Temp_Norm:C(hour)[T.11]         -58.5721      4.277    -13.695      0.000     -66.955     -50.189\n",
      "Temp_Norm:C(hour)[T.12]         -54.8722      4.292    -12.785      0.000     -63.285     -46.460\n",
      "Temp_Norm:C(hour)[T.13]         -48.5805      4.312    -11.268      0.000     -57.031     -40.130\n",
      "Temp_Norm:C(hour)[T.14]         -37.7095      4.320     -8.729      0.000     -46.177     -29.242\n",
      "Temp_Norm:C(hour)[T.15]         -23.0896      4.320     -5.345      0.000     -31.556     -14.623\n",
      "Temp_Norm:C(hour)[T.16]         -16.1147      4.301     -3.747      0.000     -24.545      -7.684\n",
      "Temp_Norm:C(hour)[T.17]         -27.4735      4.298     -6.392      0.000     -35.899     -19.048\n",
      "Temp_Norm:C(hour)[T.18]         -23.0480      4.335     -5.317      0.000     -31.544     -14.552\n",
      "Temp_Norm:C(hour)[T.19]          -1.9596      4.419     -0.443      0.657     -10.620       6.701\n",
      "Temp_Norm:C(hour)[T.20]          12.0138      4.500      2.670      0.008       3.194      20.834\n",
      "Temp_Norm:C(hour)[T.21]           8.5639      4.606      1.859      0.063      -0.465      17.592\n",
      "Temp_Norm:C(hour)[T.22]           4.2954      4.721      0.910      0.363      -4.957      13.548\n",
      "Temp_Norm:C(hour)[T.23]           2.4786      4.840      0.512      0.609      -7.007      11.965\n",
      "Temp_Norm:C(month)[T.2]          16.2930     10.020      1.626      0.104      -3.347      35.933\n",
      "Temp_Norm:C(month)[T.3]          23.3681     10.105      2.312      0.021       3.561      43.175\n",
      "Temp_Norm:C(month)[T.4]          65.7583      9.199      7.148      0.000      47.728      83.789\n",
      "Temp_Norm:C(month)[T.5]         159.1896     10.874     14.640      0.000     137.876     180.503\n",
      "Temp_Norm:C(month)[T.6]         166.9858     15.377     10.860      0.000     136.847     197.125\n",
      "Temp_Norm:C(month)[T.7]         264.6119     25.623     10.327      0.000     214.389     314.835\n",
      "Temp_Norm:C(month)[T.8]         178.5430     22.036      8.102      0.000     135.352     221.734\n",
      "Temp_Norm:C(month)[T.9]         133.1027     13.847      9.612      0.000     105.962     160.244\n",
      "Temp_Norm:C(month)[T.10]        127.0785      9.337     13.611      0.000     108.778     145.379\n",
      "Temp_Norm:C(month)[T.11]         23.0011     11.289      2.038      0.042       0.875      45.128\n",
      "Temp_Norm:C(month)[T.12]         -6.1431     11.769     -0.522      0.602     -29.212      16.926\n",
      "Temp_Norm2                       46.8979      4.051     11.578      0.000      38.958      54.838\n",
      "Temp_Norm2:C(hour)[T.1]          -6.7922      4.045     -1.679      0.093     -14.721       1.137\n",
      "Temp_Norm2:C(hour)[T.2]          -7.2007      4.068     -1.770      0.077     -15.173       0.772\n",
      "Temp_Norm2:C(hour)[T.3]          -8.7551      4.072     -2.150      0.032     -16.737      -0.773\n",
      "Temp_Norm2:C(hour)[T.4]          -8.3277      4.085     -2.038      0.042     -16.335      -0.320\n",
      "Temp_Norm2:C(hour)[T.5]         -14.1854      4.062     -3.492      0.000     -22.147      -6.224\n",
      "Temp_Norm2:C(hour)[T.6]         -23.7351      3.968     -5.982      0.000     -31.513     -15.957\n",
      "Temp_Norm2:C(hour)[T.7]         -30.2120      3.837     -7.874      0.000     -37.733     -22.691\n",
      "Temp_Norm2:C(hour)[T.8]         -35.5661      3.770     -9.434      0.000     -42.955     -28.177\n",
      "Temp_Norm2:C(hour)[T.9]         -37.6081      3.753    -10.020      0.000     -44.964     -30.252\n",
      "Temp_Norm2:C(hour)[T.10]        -36.8893      3.747     -9.844      0.000     -44.235     -29.544\n",
      "Temp_Norm2:C(hour)[T.11]        -32.2166      3.764     -8.559      0.000     -39.595     -24.839\n",
      "Temp_Norm2:C(hour)[T.12]        -29.6368      3.774     -7.853      0.000     -37.033     -22.240\n",
      "Temp_Norm2:C(hour)[T.13]        -26.8816      3.788     -7.097      0.000     -34.306     -19.457\n",
      "Temp_Norm2:C(hour)[T.14]        -20.2397      3.789     -5.342      0.000     -27.666     -12.813\n",
      "Temp_Norm2:C(hour)[T.15]        -14.8185      3.790     -3.909      0.000     -22.248      -7.389\n",
      "Temp_Norm2:C(hour)[T.16]         -9.0722      3.774     -2.404      0.016     -16.469      -1.676\n",
      "Temp_Norm2:C(hour)[T.17]         -0.6812      3.770     -0.181      0.857      -8.070       6.708\n",
      "Temp_Norm2:C(hour)[T.18]          3.1939      3.811      0.838      0.402      -4.277      10.664\n",
      "Temp_Norm2:C(hour)[T.19]          7.9381      3.870      2.051      0.040       0.352      15.524\n",
      "Temp_Norm2:C(hour)[T.20]         13.7865      3.905      3.530      0.000       6.132      21.441\n",
      "Temp_Norm2:C(hour)[T.21]         16.3843      3.962      4.136      0.000       8.619      24.149\n",
      "Temp_Norm2:C(hour)[T.22]         13.2291      4.004      3.304      0.001       5.381      21.077\n",
      "Temp_Norm2:C(hour)[T.23]          6.8167      4.039      1.688      0.091      -1.099      14.733\n",
      "Temp_Norm2:C(month)[T.2]          9.9211      4.109      2.414      0.016       1.866      17.976\n",
      "Temp_Norm2:C(month)[T.3]         22.8510      4.289      5.327      0.000      14.443      31.258\n",
      "Temp_Norm2:C(month)[T.4]         90.0379      4.505     19.985      0.000      81.207      98.869\n",
      "Temp_Norm2:C(month)[T.5]        187.5059      6.130     30.591      0.000     175.492     199.520\n",
      "Temp_Norm2:C(month)[T.6]        269.1734      8.172     32.937      0.000     253.155     285.192\n",
      "Temp_Norm2:C(month)[T.7]        224.0601     11.515     19.458      0.000     201.490     246.631\n",
      "Temp_Norm2:C(month)[T.8]        286.2384     11.027     25.958      0.000     264.625     307.852\n",
      "Temp_Norm2:C(month)[T.9]        270.5962      7.293     37.105      0.000     256.302     284.890\n",
      "Temp_Norm2:C(month)[T.10]       229.8348      4.986     46.094      0.000     220.061     239.608\n",
      "Temp_Norm2:C(month)[T.11]         1.0268      5.737      0.179      0.858     -10.218      12.272\n",
      "Temp_Norm2:C(month)[T.12]        -7.6658      4.506     -1.701      0.089     -16.498       1.166\n",
      "==============================================================================\n",
      "Omnibus:                     3046.293   Durbin-Watson:                   0.224\n",
      "Prob(Omnibus):                  0.000   Jarque-Bera (JB):            21208.345\n",
      "Skew:                           0.357   Prob(JB):                         0.00\n",
      "Kurtosis:                       7.407   Cond. No.                         331.\n",
      "==============================================================================\n",
      "\n",
      "Warnings:\n",
      "[1] Standard Errors assume that the covariance matrix of the errors is correctly specified.\n"
     ]
    }
   ],
   "source": [
    "results = sm.OLS.from_formula('MW ~ Temp_Norm*C(hour) + Temp_Norm2*C(hour) + Temp_Norm*C(month) + Temp_Norm2*C(month) + C(weekday)*C(hour)', \n",
    "                              data=train).fit()\n",
    "print(results.summary())"
   ]
  },
  {
   "cell_type": "markdown",
   "metadata": {},
   "source": [
    "All of those terms appeared significant too! Excellent. Now we have our naive energy model. It takes into account the hour of day, day of week, month of year, and the complicated relationship with temperature. \n",
    "\n",
    "Time to see how good our predictions are. One evaluation of model performance is the mean absolute percentage error (MAPE). This evaluates on average how far off are our predictions in terms of percentages. We need to get our predictions from our training data set. The ```fittedvalues``` function will do that for us. Then we can calculate the MAPE ourselves."
   ]
  },
  {
   "cell_type": "code",
   "execution_count": 26,
   "metadata": {
    "scrolled": true
   },
   "outputs": [
    {
     "name": "stdout",
     "output_type": "stream",
     "text": [
      "Training Naive Model MAPE is:  3.5119541032055452\n"
     ]
    }
   ],
   "source": [
    "train['fitted'] = results.fittedvalues\n",
    "\n",
    "train['APE'] = abs((train['MW']-train['fitted'])/train['MW'])*100\n",
    "print(\"Training Naive Model MAPE is: \", train['APE'].mean())"
   ]
  },
  {
   "cell_type": "markdown",
   "metadata": {},
   "source": [
    "On average, our model incorrectly predicted energy usage by a little over 3.5%! That gives us a good baseline to compare our future models with.\n",
    "\n"
   ]
  },
  {
   "cell_type": "code",
   "execution_count": 27,
   "metadata": {},
   "outputs": [],
   "source": [
    "test['Temp_Norm'] = (test['Temp']-test['Temp'].mean())/test['Temp'].std()\n",
    "test['Temp_Norm2'] = test['Temp_Norm']**2"
   ]
  },
  {
   "cell_type": "markdown",
   "metadata": {},
   "source": [
    "Let's forecast out our model by scoring the test data set with the linear regression we built. Remember, we don't want to build a model on the test data set, just run the observations through the equation we got from the training model. These are our January 2020 predictions! The ```predict``` function will help us with this. We need to specify which data set we are predicting as you see with the ```predict(test)``` below. Let's look at the first few observations from this prediction!"
   ]
  },
  {
   "cell_type": "code",
   "execution_count": 28,
   "metadata": {},
   "outputs": [
    {
     "data": {
      "text/html": [
       "<div>\n",
       "<style scoped>\n",
       "    .dataframe tbody tr th:only-of-type {\n",
       "        vertical-align: middle;\n",
       "    }\n",
       "\n",
       "    .dataframe tbody tr th {\n",
       "        vertical-align: top;\n",
       "    }\n",
       "\n",
       "    .dataframe thead th {\n",
       "        text-align: right;\n",
       "    }\n",
       "</style>\n",
       "<table border=\"1\" class=\"dataframe\">\n",
       "  <thead>\n",
       "    <tr style=\"text-align: right;\">\n",
       "      <th></th>\n",
       "      <th>MW</th>\n",
       "      <th>Temp</th>\n",
       "      <th>hour</th>\n",
       "      <th>day</th>\n",
       "      <th>weekday</th>\n",
       "      <th>month</th>\n",
       "      <th>year</th>\n",
       "      <th>Temp_Norm</th>\n",
       "      <th>Temp_Norm2</th>\n",
       "      <th>pred</th>\n",
       "    </tr>\n",
       "    <tr>\n",
       "      <th>Date</th>\n",
       "      <th></th>\n",
       "      <th></th>\n",
       "      <th></th>\n",
       "      <th></th>\n",
       "      <th></th>\n",
       "      <th></th>\n",
       "      <th></th>\n",
       "      <th></th>\n",
       "      <th></th>\n",
       "      <th></th>\n",
       "    </tr>\n",
       "  </thead>\n",
       "  <tbody>\n",
       "    <tr>\n",
       "      <th>2020-01-01 00:53:00</th>\n",
       "      <td>1363.428</td>\n",
       "      <td>31.0</td>\n",
       "      <td>0</td>\n",
       "      <td>1</td>\n",
       "      <td>2</td>\n",
       "      <td>1</td>\n",
       "      <td>2020</td>\n",
       "      <td>-0.435454</td>\n",
       "      <td>0.189621</td>\n",
       "      <td>1301.224887</td>\n",
       "    </tr>\n",
       "    <tr>\n",
       "      <th>2020-01-01 01:53:00</th>\n",
       "      <td>1335.975</td>\n",
       "      <td>29.0</td>\n",
       "      <td>1</td>\n",
       "      <td>1</td>\n",
       "      <td>2</td>\n",
       "      <td>1</td>\n",
       "      <td>2020</td>\n",
       "      <td>-0.627840</td>\n",
       "      <td>0.394184</td>\n",
       "      <td>1296.150033</td>\n",
       "    </tr>\n",
       "    <tr>\n",
       "      <th>2020-01-01 02:53:00</th>\n",
       "      <td>1296.817</td>\n",
       "      <td>30.0</td>\n",
       "      <td>2</td>\n",
       "      <td>1</td>\n",
       "      <td>2</td>\n",
       "      <td>1</td>\n",
       "      <td>2020</td>\n",
       "      <td>-0.531647</td>\n",
       "      <td>0.282649</td>\n",
       "      <td>1280.104337</td>\n",
       "    </tr>\n",
       "    <tr>\n",
       "      <th>2020-01-01 03:53:00</th>\n",
       "      <td>1288.403</td>\n",
       "      <td>30.0</td>\n",
       "      <td>3</td>\n",
       "      <td>1</td>\n",
       "      <td>2</td>\n",
       "      <td>1</td>\n",
       "      <td>2020</td>\n",
       "      <td>-0.531647</td>\n",
       "      <td>0.282649</td>\n",
       "      <td>1292.227132</td>\n",
       "    </tr>\n",
       "    <tr>\n",
       "      <th>2020-01-01 04:53:00</th>\n",
       "      <td>1292.263</td>\n",
       "      <td>31.0</td>\n",
       "      <td>4</td>\n",
       "      <td>1</td>\n",
       "      <td>2</td>\n",
       "      <td>1</td>\n",
       "      <td>2020</td>\n",
       "      <td>-0.435454</td>\n",
       "      <td>0.189621</td>\n",
       "      <td>1334.757899</td>\n",
       "    </tr>\n",
       "  </tbody>\n",
       "</table>\n",
       "</div>"
      ],
      "text/plain": [
       "                           MW  Temp  hour  day  weekday  month  year  \\\n",
       "Date                                                                   \n",
       "2020-01-01 00:53:00  1363.428  31.0     0    1        2      1  2020   \n",
       "2020-01-01 01:53:00  1335.975  29.0     1    1        2      1  2020   \n",
       "2020-01-01 02:53:00  1296.817  30.0     2    1        2      1  2020   \n",
       "2020-01-01 03:53:00  1288.403  30.0     3    1        2      1  2020   \n",
       "2020-01-01 04:53:00  1292.263  31.0     4    1        2      1  2020   \n",
       "\n",
       "                     Temp_Norm  Temp_Norm2         pred  \n",
       "Date                                                     \n",
       "2020-01-01 00:53:00  -0.435454    0.189621  1301.224887  \n",
       "2020-01-01 01:53:00  -0.627840    0.394184  1296.150033  \n",
       "2020-01-01 02:53:00  -0.531647    0.282649  1280.104337  \n",
       "2020-01-01 03:53:00  -0.531647    0.282649  1292.227132  \n",
       "2020-01-01 04:53:00  -0.435454    0.189621  1334.757899  "
      ]
     },
     "execution_count": 28,
     "metadata": {},
     "output_type": "execute_result"
    }
   ],
   "source": [
    "test['pred'] = results.predict(test)\n",
    "\n",
    "test.head()"
   ]
  },
  {
   "cell_type": "markdown",
   "metadata": {},
   "source": [
    "Good! Now let's plot our predictions for the test data set against the actual values."
   ]
  },
  {
   "cell_type": "code",
   "execution_count": 29,
   "metadata": {},
   "outputs": [
    {
     "data": {
      "image/png": "[encoded data removed]",
      "text/plain": [
       "<Figure size 648x504 with 1 Axes>"
      ]
     },
     "metadata": {
      "needs_background": "light"
     },
     "output_type": "display_data"
    }
   ],
   "source": [
    "test['MW'].plot(color = 'blue', figsize=(9,7))\n",
    "\n",
    "plt.ylabel('MW Hours')\n",
    "plt.xlabel('Date')\n",
    "\n",
    "test['pred'].plot(color = 'green', linestyle = 'dashed', figsize=(9,7))\n",
    "\n",
    "plt.legend(loc=\"best\");\n",
    "\n",
    "plt.show()"
   ]
  },
  {
   "cell_type": "markdown",
   "metadata": {},
   "source": [
    "Those look like rather good predictions! Let's see what the MAPE is on these."
   ]
  },
  {
   "cell_type": "code",
   "execution_count": 30,
   "metadata": {},
   "outputs": [
    {
     "name": "stdout",
     "output_type": "stream",
     "text": [
      "Naive Model MAPE is:  4.3947190107463365\n"
     ]
    }
   ],
   "source": [
    "test['APE'] = abs((test['MW']-test['pred'])/test['MW'])*100\n",
    "print(\"Naive Model MAPE is: \", test['APE'].mean())"
   ]
  },
  {
   "cell_type": "markdown",
   "metadata": {},
   "source": [
    "Great! Remember, the MAPE is probably going to be higher because our model hasn't seen this data before. This is a great way to truly evaluate how well your model will do when deployed in a real world setting since you won't know energy data before you predict it. Looks like our model is only off by 4.4% on average.\n",
    "\n",
    "The foundation is laid in this step. Model building can be complicated and sometimes it is hard to know when to stop. The best plan is to build a foundational model that you can try to build upon and/or outperform with later editions of your model. Without a good baseline, you won't know how good your final model is. These seasonal effects of hours of day, days of week, months of year as well as the temperature effects build a great first attempt at forecasting future energy usage.\n",
    "\n",
    "This is a great initial model if your boss needs a check-in to see your progress. This model gets you a long way there since you have incorporated temperature's complicated relationship. In the next milestones you get to build on this great foundation to really show your boss what you can do!"
   ]
  }
 ],
 "metadata": {
  "kernelspec": {
   "display_name": "Python 3 (ipykernel)",
   "language": "python",
   "name": "python3"
  },
  "language_info": {
   "codemirror_mode": {
    "name": "ipython",
    "version": 3
   },
   "file_extension": ".py",
   "mimetype": "text/x-python",
   "name": "python",
   "nbconvert_exporter": "python",
   "pygments_lexer": "ipython3",
   "version": "3.9.7"
  }
 },
 "nbformat": 4,
 "nbformat_minor": 4
}
