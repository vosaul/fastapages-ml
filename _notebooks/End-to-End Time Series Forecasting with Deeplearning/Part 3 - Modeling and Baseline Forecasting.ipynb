{
 "cells": [
  {
   "cell_type": "markdown",
   "metadata": {
    "id": "BGA1391_mTcd"
   },
   "source": [
    "# Modeling and Baseline Forecasting"
   ]
  },
  {
   "cell_type": "markdown",
   "metadata": {
    "id": "iUWpopHgmTdW"
   },
   "source": [
    "![Milestone 3](https://s3.ap-southeast-1.amazonaws.com/www.jiahao.io/manning/project1_milestone3.png)"
   ]
  },
  {
   "cell_type": "markdown",
   "metadata": {
    "id": "Vk6K1WLTmTdo"
   },
   "source": [
    "This part involves three parts:\n",
    "1. Build baseline model using Naive and sNaive methods\n",
    "2. Understand the various metrics for evaluation of time series model and decide on our metrics\n",
    "3. Set up model using Facebook Prophet for comparison"
   ]
  },
  {
   "cell_type": "markdown",
   "metadata": {
    "id": "NDvJNgLbmTdw"
   },
   "source": [
    "## Importing Necessary Libraries and Functions"
   ]
  },
  {
   "cell_type": "markdown",
   "metadata": {
    "id": "NCTwtClomTeG"
   },
   "source": [
    "The data (data/sales_cleaned.csv) that we are using is an output from previous parts. \n",
    "\n",
    "Again, recall that challenge is to forecast the sales of the respective stores by each category for the next 28 days."
   ]
  },
  {
   "cell_type": "code",
   "execution_count": null,
   "metadata": {
    "id": "JEG0WY0pmTeh"
   },
   "outputs": [],
   "source": [
    "RunningInCOLAB = 'google.colab' in str(get_ipython())\n",
    "\n",
    "# import necessary libraries\n",
    "import pandas as pd\n",
    "import numpy as np\n",
    "import matplotlib.pyplot as plt\n",
    "import seaborn as sns\n",
    "from tqdm import tqdm\n",
    "if RunningInCOLAB:\n",
    "  !pip install prophet\n",
    "from prophet import Prophet\n",
    "import itertools\n",
    "\n",
    "%matplotlib inline\n",
    "\n",
    "# suppress pandas SettingWithCopyWarning \n",
    "pd.options.mode.chained_assignment = None"
   ]
  },
  {
   "cell_type": "markdown",
   "metadata": {
    "id": "8WIRkwOnmTe7"
   },
   "source": [
    "## Building our Baseline Model"
   ]
  },
  {
   "cell_type": "markdown",
   "metadata": {
    "id": "I3UE3pZnmTfk"
   },
   "source": [
    "In order to know how well our models are performing, we need a baseline model for reference. The baseline model will use a very quick and simple method (in our case, Naive or sNaive method) and our models must have better performance than the baseline to be useful."
   ]
  },
  {
   "cell_type": "markdown",
   "metadata": {
    "id": "Z1upSjbXmTfr"
   },
   "source": [
    "The Naive method uses the last known observation of the time series as forecasts for the next 28 days.\n",
    "\n",
    "The Seasonal Naive (sNaive) method is similar to the Naive method, but this time the forecasts of the model are equal to the last known observation of the same seasonal period. In our case, we will set the period as 7 days based on our analysis in previous part."
   ]
  },
  {
   "cell_type": "markdown",
   "metadata": {
    "id": "AQA8bLjmmTfs"
   },
   "source": [
    "<ins>Instructions</ins>:<br>\n",
    "- Let's read in our sales_cleaned.csv data and paste our train-test split function from previous part."
   ]
  },
  {
   "cell_type": "code",
   "execution_count": 2,
   "metadata": {
    "colab": {
     "base_uri": "https://localhost:8080/",
     "height": 89,
     "resources": {
      "http://localhost:8080/nbextensions/google.colab/files.js": {
       "data": "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",
       "headers": [
        [
         "content-type",
         "application/javascript"
        ]
       ],
       "ok": true,
       "status": 200,
       "status_text": ""
      }
     }
    },
    "id": "arEZHWSam7gA",
    "outputId": "921ad6e8-2add-4496-8196-8322c24ff3ed"
   },
   "outputs": [
    {
     "data": {
      "text/html": [
       "\n",
       "     <input type=\"file\" id=\"files-ffc54dbe-9059-4756-bad1-3f9f2207fc8f\" name=\"files[]\" multiple disabled\n",
       "        style=\"border:none\" />\n",
       "     <output id=\"result-ffc54dbe-9059-4756-bad1-3f9f2207fc8f\">\n",
       "      Upload widget is only available when the cell has been executed in the\n",
       "      current browser session. Please rerun this cell to enable.\n",
       "      </output>\n",
       "      <script src=\"/nbextensions/google.colab/files.js\"></script> "
      ],
      "text/plain": [
       "<IPython.core.display.HTML object>"
      ]
     },
     "metadata": {},
     "output_type": "display_data"
    },
    {
     "name": "stdout",
     "output_type": "stream",
     "text": [
      "Saving sales_cleaned.csv to sales_cleaned.csv\n",
      "User uploaded file \"sales_cleaned.csv\" with length 2509831 bytes\n"
     ]
    }
   ],
   "source": [
    "if RunningInCOLAB:\n",
    "  from google.colab import files\n",
    "\n",
    "  uploaded = files.upload()\n",
    "\n",
    "  for fn in uploaded.keys():\n",
    "    print('User uploaded file \"{name}\" with length {length} bytes'.format(\n",
    "        name=fn, length=len(uploaded[fn])))"
   ]
  },
  {
   "cell_type": "code",
   "execution_count": 3,
   "metadata": {
    "colab": {
     "base_uri": "https://localhost:8080/",
     "height": 408
    },
    "id": "TS8isDvwmTf4",
    "outputId": "f4e4a0a5-e593-4d27-ecb1-4173a60a7eb5"
   },
   "outputs": [
    {
     "name": "stdout",
     "output_type": "stream",
     "text": [
      "<class 'pandas.core.frame.DataFrame'>\n",
      "RangeIndex: 54384 entries, 0 to 54383\n",
      "Data columns (total 5 columns):\n",
      " #   Column     Non-Null Count  Dtype         \n",
      "---  ------     --------------  -----         \n",
      " 0   store_id   54384 non-null  object        \n",
      " 1   cat_id     54384 non-null  object        \n",
      " 2   date       54384 non-null  datetime64[ns]\n",
      " 3   sales      54384 non-null  float64       \n",
      " 4   series_id  54384 non-null  object        \n",
      "dtypes: datetime64[ns](1), float64(1), object(3)\n",
      "memory usage: 2.1+ MB\n"
     ]
    },
    {
     "data": {
      "text/html": [
       "<div>\n",
       "<style scoped>\n",
       "    .dataframe tbody tr th:only-of-type {\n",
       "        vertical-align: middle;\n",
       "    }\n",
       "\n",
       "    .dataframe tbody tr th {\n",
       "        vertical-align: top;\n",
       "    }\n",
       "\n",
       "    .dataframe thead th {\n",
       "        text-align: right;\n",
       "    }\n",
       "</style>\n",
       "<table border=\"1\" class=\"dataframe\">\n",
       "  <thead>\n",
       "    <tr style=\"text-align: right;\">\n",
       "      <th></th>\n",
       "      <th>store_id</th>\n",
       "      <th>cat_id</th>\n",
       "      <th>date</th>\n",
       "      <th>sales</th>\n",
       "      <th>series_id</th>\n",
       "    </tr>\n",
       "  </thead>\n",
       "  <tbody>\n",
       "    <tr>\n",
       "      <th>0</th>\n",
       "      <td>TX_1</td>\n",
       "      <td>FOODS</td>\n",
       "      <td>2011-01-29</td>\n",
       "      <td>3950.35</td>\n",
       "      <td>TX_1_FOODS</td>\n",
       "    </tr>\n",
       "    <tr>\n",
       "      <th>1</th>\n",
       "      <td>TX_1</td>\n",
       "      <td>FOODS</td>\n",
       "      <td>2011-01-30</td>\n",
       "      <td>3844.97</td>\n",
       "      <td>TX_1_FOODS</td>\n",
       "    </tr>\n",
       "    <tr>\n",
       "      <th>2</th>\n",
       "      <td>TX_1</td>\n",
       "      <td>FOODS</td>\n",
       "      <td>2011-01-31</td>\n",
       "      <td>2888.03</td>\n",
       "      <td>TX_1_FOODS</td>\n",
       "    </tr>\n",
       "    <tr>\n",
       "      <th>3</th>\n",
       "      <td>TX_1</td>\n",
       "      <td>FOODS</td>\n",
       "      <td>2011-02-01</td>\n",
       "      <td>3631.28</td>\n",
       "      <td>TX_1_FOODS</td>\n",
       "    </tr>\n",
       "    <tr>\n",
       "      <th>4</th>\n",
       "      <td>TX_1</td>\n",
       "      <td>FOODS</td>\n",
       "      <td>2011-02-02</td>\n",
       "      <td>3072.18</td>\n",
       "      <td>TX_1_FOODS</td>\n",
       "    </tr>\n",
       "  </tbody>\n",
       "</table>\n",
       "</div>"
      ],
      "text/plain": [
       "  store_id cat_id       date    sales   series_id\n",
       "0     TX_1  FOODS 2011-01-29  3950.35  TX_1_FOODS\n",
       "1     TX_1  FOODS 2011-01-30  3844.97  TX_1_FOODS\n",
       "2     TX_1  FOODS 2011-01-31  2888.03  TX_1_FOODS\n",
       "3     TX_1  FOODS 2011-02-01  3631.28  TX_1_FOODS\n",
       "4     TX_1  FOODS 2011-02-02  3072.18  TX_1_FOODS"
      ]
     },
     "execution_count": 3,
     "metadata": {},
     "output_type": "execute_result"
    }
   ],
   "source": [
    "# read in our processed data\n",
    "# by using parse_dates in parameter of read_csv, we can convert date column to datetime format without additional step\n",
    "if RunningInCOLAB:\n",
    "  sales_df = pd.read_csv('./sales_cleaned.csv', parse_dates=['date'])\n",
    "else:\n",
    "  sales_df = pd.read_csv('../data/sales_cleaned.csv', parse_dates=['date'])  # use this if running notebook in local \n",
    "sales_df.info()\n",
    "sales_df.head()"
   ]
  },
  {
   "cell_type": "code",
   "execution_count": 4,
   "metadata": {
    "id": "QZA67XNymTgD"
   },
   "outputs": [],
   "source": [
    "def get_cv_split(df, split_num, prediction_length=28, validation=True):\n",
    "    \"\"\"\n",
    "    Implement train-test split given a cv split number and return training, val and test data\n",
    "    \"\"\"\n",
    "    if 'series_id' not in df.columns:\n",
    "        df['series_id'] = df['store_id'] + '_' + df['cat_id']\n",
    "    series_list = df['series_id'].unique()\n",
    "\n",
    "    test_list = []\n",
    "    validation_list = []\n",
    "    training_list = []\n",
    "\n",
    "    for series in series_list:\n",
    "        df_series = df.loc[df.series_id==series]\n",
    "        max_date = df_series.date.max()\n",
    "        min_date = df_series.date.min()\n",
    "        test_lower_date = max_date - pd.Timedelta(f\"{prediction_length*((split_num+1)*2-1)} days\")\n",
    "        test_upper_date = max_date - pd.Timedelta(f\"{prediction_length*(split_num*2)} days\")\n",
    "        val_lower_date = max_date - pd.Timedelta(f\"{prediction_length*(split_num+1)*2} days\")\n",
    "        if min(test_lower_date, test_upper_date) < min_date:\n",
    "            raise Exception(\"Insufficient data for splitting\")\n",
    "\n",
    "        df_series_test = df_series.loc[(df_series.date > test_lower_date) & (df_series.date <= test_upper_date)]\n",
    "        if validation:\n",
    "            df_series_val = df_series.loc[(df_series.date > val_lower_date) & (df_series.date <= test_lower_date)]\n",
    "            df_series_train = df_series.loc[df_series.date <= val_lower_date]\n",
    "        else:\n",
    "            df_series_val = pd.DataFrame()\n",
    "            df_series_train = df_series.loc[df_series.date <= test_lower_date]\n",
    "        test_list.append(df_series_test)\n",
    "        validation_list.append(df_series_val)\n",
    "        training_list.append(df_series_train)\n",
    "\n",
    "    test_df = pd.concat(test_list)\n",
    "    validation_df = pd.concat(validation_list)\n",
    "    training_df = pd.concat(training_list)\n",
    "    return training_df, validation_df, test_df"
   ]
  },
  {
   "cell_type": "markdown",
   "metadata": {
    "id": "c_wn8e3pmTgI"
   },
   "source": [
    "<ins>Instructions</ins>:<br>\n",
    "- Now let's start off with implementing the Naive method. Develop a function that will take in the training and test data and return a dataframe containing the test data and corresponding predictions."
   ]
  },
  {
   "cell_type": "code",
   "execution_count": 5,
   "metadata": {
    "id": "GXRTWH-_mTgK"
   },
   "outputs": [],
   "source": [
    "def naive_predictions(training_df, test_df):\n",
    "    \"\"\"\n",
    "    Implement the Naive method and return dataframe with test data and corresponding predictions\n",
    "    \"\"\"\n",
    "    series_list = training_df['series_id'].unique()\n",
    "    naive_pred_list = []\n",
    "    for series in series_list:\n",
    "        training_df_series = training_df.loc[training_df.series_id==series]\n",
    "        last_obs_df = training_df_series.loc[training_df_series.date == training_df_series.date.max(), ['series_id','sales']]\n",
    "        naive_pred_list.append(last_obs_df)\n",
    "    naive_pred_df = pd.concat(naive_pred_list)\n",
    "    naive_pred_df.rename(columns={'sales':'naive_pred'}, inplace=True)\n",
    "    naive_test_df = test_df.merge(naive_pred_df, on='series_id', how='left')\n",
    "    return naive_test_df"
   ]
  },
  {
   "cell_type": "code",
   "execution_count": 6,
   "metadata": {
    "colab": {
     "base_uri": "https://localhost:8080/",
     "height": 363
    },
    "id": "3H65LyQImTgN",
    "outputId": "1a249a5a-2aa5-459e-ee4a-35005a751053"
   },
   "outputs": [
    {
     "name": "stdout",
     "output_type": "stream",
     "text": [
      "<class 'pandas.core.frame.DataFrame'>\n",
      "Int64Index: 840 entries, 0 to 839\n",
      "Data columns (total 6 columns):\n",
      " #   Column      Non-Null Count  Dtype         \n",
      "---  ------      --------------  -----         \n",
      " 0   store_id    840 non-null    object        \n",
      " 1   cat_id      840 non-null    object        \n",
      " 2   date        840 non-null    datetime64[ns]\n",
      " 3   sales       840 non-null    float64       \n",
      " 4   series_id   840 non-null    object        \n",
      " 5   naive_pred  840 non-null    float64       \n",
      "dtypes: datetime64[ns](1), float64(2), object(3)\n",
      "memory usage: 45.9+ KB\n"
     ]
    },
    {
     "data": {
      "text/html": [
       "<div>\n",
       "<style scoped>\n",
       "    .dataframe tbody tr th:only-of-type {\n",
       "        vertical-align: middle;\n",
       "    }\n",
       "\n",
       "    .dataframe tbody tr th {\n",
       "        vertical-align: top;\n",
       "    }\n",
       "\n",
       "    .dataframe thead th {\n",
       "        text-align: right;\n",
       "    }\n",
       "</style>\n",
       "<table border=\"1\" class=\"dataframe\">\n",
       "  <thead>\n",
       "    <tr style=\"text-align: right;\">\n",
       "      <th></th>\n",
       "      <th>store_id</th>\n",
       "      <th>cat_id</th>\n",
       "      <th>date</th>\n",
       "      <th>sales</th>\n",
       "      <th>series_id</th>\n",
       "      <th>naive_pred</th>\n",
       "    </tr>\n",
       "  </thead>\n",
       "  <tbody>\n",
       "    <tr>\n",
       "      <th>0</th>\n",
       "      <td>TX_1</td>\n",
       "      <td>FOODS</td>\n",
       "      <td>2016-04-25</td>\n",
       "      <td>5236.10</td>\n",
       "      <td>TX_1_FOODS</td>\n",
       "      <td>6627.53</td>\n",
       "    </tr>\n",
       "    <tr>\n",
       "      <th>1</th>\n",
       "      <td>TX_1</td>\n",
       "      <td>FOODS</td>\n",
       "      <td>2016-04-26</td>\n",
       "      <td>4632.85</td>\n",
       "      <td>TX_1_FOODS</td>\n",
       "      <td>6627.53</td>\n",
       "    </tr>\n",
       "    <tr>\n",
       "      <th>2</th>\n",
       "      <td>TX_1</td>\n",
       "      <td>FOODS</td>\n",
       "      <td>2016-04-27</td>\n",
       "      <td>4939.37</td>\n",
       "      <td>TX_1_FOODS</td>\n",
       "      <td>6627.53</td>\n",
       "    </tr>\n",
       "  </tbody>\n",
       "</table>\n",
       "</div>"
      ],
      "text/plain": [
       "  store_id cat_id       date    sales   series_id  naive_pred\n",
       "0     TX_1  FOODS 2016-04-25  5236.10  TX_1_FOODS     6627.53\n",
       "1     TX_1  FOODS 2016-04-26  4632.85  TX_1_FOODS     6627.53\n",
       "2     TX_1  FOODS 2016-04-27  4939.37  TX_1_FOODS     6627.53"
      ]
     },
     "execution_count": 6,
     "metadata": {},
     "output_type": "execute_result"
    }
   ],
   "source": [
    "# Naive method for first cv split\n",
    "training_df, _, test_df = get_cv_split(sales_df, 0, validation=False)\n",
    "naive_test_df = naive_predictions(training_df, test_df)\n",
    "naive_test_df.info()\n",
    "naive_test_df.head(3)"
   ]
  },
  {
   "cell_type": "markdown",
   "metadata": {
    "id": "aIqPpMldmTgP"
   },
   "source": [
    "Let's plot our Naive predictions against real data for visualization."
   ]
  },
  {
   "cell_type": "markdown",
   "metadata": {
    "id": "N1bLUEUxmTgQ"
   },
   "source": [
    "<ins>Instructions</ins>:<br>\n",
    "- For a given time series, plot the Naive predictions against actual sales"
   ]
  },
  {
   "cell_type": "code",
   "execution_count": 7,
   "metadata": {
    "colab": {
     "base_uri": "https://localhost:8080/",
     "height": 334
    },
    "id": "iM0imdOMmTgS",
    "outputId": "89897ef2-d9df-4e12-a58a-dfc78e28265d"
   },
   "outputs": [
    {
     "data": {
      "image/png": "[encoded data removed]",
      "text/plain": [
       "<Figure size 1080x360 with 1 Axes>"
      ]
     },
     "metadata": {
      "needs_background": "light"
     },
     "output_type": "display_data"
    }
   ],
   "source": [
    "def plot_pred(prediction_test_df, series_id, yhat):\n",
    "    \"\"\"\n",
    "    Plot the predictions against actual sales for a specified time series\n",
    "    \"\"\"\n",
    "    prediction_test_df_series = prediction_test_df.loc[prediction_test_df.series_id==series_id]\n",
    "    plt.figure(figsize=(15,5))\n",
    "    sns.lineplot(x=prediction_test_df_series.date, y=prediction_test_df_series.sales, label='Sales')\n",
    "    sns.lineplot(x=prediction_test_df_series.date, y=prediction_test_df_series[yhat], label=yhat)\n",
    "\n",
    "plot_pred(naive_test_df, 'TX_2_FOODS', 'naive_pred')"
   ]
  },
  {
   "cell_type": "markdown",
   "metadata": {
    "id": "AVgK1EurmTgU"
   },
   "source": [
    "From our plot, we can see that the Naive predictions are uninteresting; just a horizontal straight line of constant value. Well, it's naive after all.\n",
    "\n",
    "Now, let's implement the sNaive method. Remember, the seasonal period for our case is 7 days."
   ]
  },
  {
   "cell_type": "markdown",
   "metadata": {
    "id": "4uutxx7EmTgZ"
   },
   "source": [
    "<ins>Instructions</ins>:<br>\n",
    "- Implement the sNaive method using the last 7 known observations of each time series. Develop a function that will take in the training and test data and return a dataframe containing the test data and corresponding predictions."
   ]
  },
  {
   "cell_type": "code",
   "execution_count": 8,
   "metadata": {
    "id": "4cP3ZQ7_mTgd"
   },
   "outputs": [],
   "source": [
    "def snaive_predictions(training_df, test_df):\n",
    "    \"\"\"\n",
    "    Implement the sNaive method and return dataframe with test data and corresponding predictions\n",
    "    \"\"\"\n",
    "    training_df['dayofweek'] = training_df['date'].dt.weekday\n",
    "    series_list = training_df['series_id'].unique()\n",
    "    snaive_pred_list = []\n",
    "    for series in series_list:\n",
    "        training_df_series = training_df.loc[training_df.series_id==series]\n",
    "        training_df_series.sort_values(by='date', ascending=False, inplace=True)\n",
    "        last_week_df = training_df_series[:7][['dayofweek', 'series_id','sales']]\n",
    "        snaive_pred_list.append(last_week_df)\n",
    "    snaive_pred_df = pd.concat(snaive_pred_list)\n",
    "    snaive_pred_df.rename(columns={'sales':'snaive_pred'}, inplace=True)\n",
    "    test_df['dayofweek'] = test_df['date'].dt.weekday\n",
    "    snaive_test_df = test_df.merge(snaive_pred_df, on=['series_id', 'dayofweek'], how='left')\n",
    "    return snaive_test_df"
   ]
  },
  {
   "cell_type": "code",
   "execution_count": 9,
   "metadata": {
    "colab": {
     "base_uri": "https://localhost:8080/",
     "height": 597
    },
    "id": "g0MGVdl1mTgg",
    "outputId": "b55524c6-e1de-4fe2-bf82-7ac90fc5ec07"
   },
   "outputs": [
    {
     "name": "stdout",
     "output_type": "stream",
     "text": [
      "<class 'pandas.core.frame.DataFrame'>\n",
      "Int64Index: 840 entries, 0 to 839\n",
      "Data columns (total 7 columns):\n",
      " #   Column       Non-Null Count  Dtype         \n",
      "---  ------       --------------  -----         \n",
      " 0   store_id     840 non-null    object        \n",
      " 1   cat_id       840 non-null    object        \n",
      " 2   date         840 non-null    datetime64[ns]\n",
      " 3   sales        840 non-null    float64       \n",
      " 4   series_id    840 non-null    object        \n",
      " 5   dayofweek    840 non-null    int64         \n",
      " 6   snaive_pred  840 non-null    float64       \n",
      "dtypes: datetime64[ns](1), float64(2), int64(1), object(3)\n",
      "memory usage: 52.5+ KB\n"
     ]
    },
    {
     "data": {
      "text/html": [
       "<div>\n",
       "<style scoped>\n",
       "    .dataframe tbody tr th:only-of-type {\n",
       "        vertical-align: middle;\n",
       "    }\n",
       "\n",
       "    .dataframe tbody tr th {\n",
       "        vertical-align: top;\n",
       "    }\n",
       "\n",
       "    .dataframe thead th {\n",
       "        text-align: right;\n",
       "    }\n",
       "</style>\n",
       "<table border=\"1\" class=\"dataframe\">\n",
       "  <thead>\n",
       "    <tr style=\"text-align: right;\">\n",
       "      <th></th>\n",
       "      <th>store_id</th>\n",
       "      <th>cat_id</th>\n",
       "      <th>date</th>\n",
       "      <th>sales</th>\n",
       "      <th>series_id</th>\n",
       "      <th>dayofweek</th>\n",
       "      <th>snaive_pred</th>\n",
       "    </tr>\n",
       "  </thead>\n",
       "  <tbody>\n",
       "    <tr>\n",
       "      <th>0</th>\n",
       "      <td>TX_1</td>\n",
       "      <td>FOODS</td>\n",
       "      <td>2016-04-25</td>\n",
       "      <td>5236.10</td>\n",
       "      <td>TX_1_FOODS</td>\n",
       "      <td>0</td>\n",
       "      <td>6391.68</td>\n",
       "    </tr>\n",
       "    <tr>\n",
       "      <th>1</th>\n",
       "      <td>TX_1</td>\n",
       "      <td>FOODS</td>\n",
       "      <td>2016-04-26</td>\n",
       "      <td>4632.85</td>\n",
       "      <td>TX_1_FOODS</td>\n",
       "      <td>1</td>\n",
       "      <td>5701.26</td>\n",
       "    </tr>\n",
       "    <tr>\n",
       "      <th>2</th>\n",
       "      <td>TX_1</td>\n",
       "      <td>FOODS</td>\n",
       "      <td>2016-04-27</td>\n",
       "      <td>4939.37</td>\n",
       "      <td>TX_1_FOODS</td>\n",
       "      <td>2</td>\n",
       "      <td>4727.66</td>\n",
       "    </tr>\n",
       "    <tr>\n",
       "      <th>3</th>\n",
       "      <td>TX_1</td>\n",
       "      <td>FOODS</td>\n",
       "      <td>2016-04-28</td>\n",
       "      <td>3997.22</td>\n",
       "      <td>TX_1_FOODS</td>\n",
       "      <td>3</td>\n",
       "      <td>4510.38</td>\n",
       "    </tr>\n",
       "    <tr>\n",
       "      <th>4</th>\n",
       "      <td>TX_1</td>\n",
       "      <td>FOODS</td>\n",
       "      <td>2016-04-29</td>\n",
       "      <td>6013.73</td>\n",
       "      <td>TX_1_FOODS</td>\n",
       "      <td>4</td>\n",
       "      <td>5026.10</td>\n",
       "    </tr>\n",
       "    <tr>\n",
       "      <th>5</th>\n",
       "      <td>TX_1</td>\n",
       "      <td>FOODS</td>\n",
       "      <td>2016-04-30</td>\n",
       "      <td>6552.24</td>\n",
       "      <td>TX_1_FOODS</td>\n",
       "      <td>5</td>\n",
       "      <td>5947.91</td>\n",
       "    </tr>\n",
       "    <tr>\n",
       "      <th>6</th>\n",
       "      <td>TX_1</td>\n",
       "      <td>FOODS</td>\n",
       "      <td>2016-05-01</td>\n",
       "      <td>7121.82</td>\n",
       "      <td>TX_1_FOODS</td>\n",
       "      <td>6</td>\n",
       "      <td>6627.53</td>\n",
       "    </tr>\n",
       "    <tr>\n",
       "      <th>7</th>\n",
       "      <td>TX_1</td>\n",
       "      <td>FOODS</td>\n",
       "      <td>2016-05-02</td>\n",
       "      <td>4759.49</td>\n",
       "      <td>TX_1_FOODS</td>\n",
       "      <td>0</td>\n",
       "      <td>6391.68</td>\n",
       "    </tr>\n",
       "    <tr>\n",
       "      <th>8</th>\n",
       "      <td>TX_1</td>\n",
       "      <td>FOODS</td>\n",
       "      <td>2016-05-03</td>\n",
       "      <td>5467.08</td>\n",
       "      <td>TX_1_FOODS</td>\n",
       "      <td>1</td>\n",
       "      <td>5701.26</td>\n",
       "    </tr>\n",
       "    <tr>\n",
       "      <th>9</th>\n",
       "      <td>TX_1</td>\n",
       "      <td>FOODS</td>\n",
       "      <td>2016-05-04</td>\n",
       "      <td>4911.75</td>\n",
       "      <td>TX_1_FOODS</td>\n",
       "      <td>2</td>\n",
       "      <td>4727.66</td>\n",
       "    </tr>\n",
       "  </tbody>\n",
       "</table>\n",
       "</div>"
      ],
      "text/plain": [
       "  store_id cat_id       date    sales   series_id  dayofweek  snaive_pred\n",
       "0     TX_1  FOODS 2016-04-25  5236.10  TX_1_FOODS          0      6391.68\n",
       "1     TX_1  FOODS 2016-04-26  4632.85  TX_1_FOODS          1      5701.26\n",
       "2     TX_1  FOODS 2016-04-27  4939.37  TX_1_FOODS          2      4727.66\n",
       "3     TX_1  FOODS 2016-04-28  3997.22  TX_1_FOODS          3      4510.38\n",
       "4     TX_1  FOODS 2016-04-29  6013.73  TX_1_FOODS          4      5026.10\n",
       "5     TX_1  FOODS 2016-04-30  6552.24  TX_1_FOODS          5      5947.91\n",
       "6     TX_1  FOODS 2016-05-01  7121.82  TX_1_FOODS          6      6627.53\n",
       "7     TX_1  FOODS 2016-05-02  4759.49  TX_1_FOODS          0      6391.68\n",
       "8     TX_1  FOODS 2016-05-03  5467.08  TX_1_FOODS          1      5701.26\n",
       "9     TX_1  FOODS 2016-05-04  4911.75  TX_1_FOODS          2      4727.66"
      ]
     },
     "execution_count": 9,
     "metadata": {},
     "output_type": "execute_result"
    }
   ],
   "source": [
    "# sNaive predictions for first cv split\n",
    "training_df, _, test_df = get_cv_split(sales_df, 0, validation=False)\n",
    "snaive_test_df = snaive_predictions(training_df, test_df)\n",
    "snaive_test_df.info()\n",
    "snaive_test_df.head(10)     "
   ]
  },
  {
   "cell_type": "markdown",
   "metadata": {
    "id": "lG0RBihKmTgg"
   },
   "source": [
    "Similarly, let's plot our sNaive predictions against the actual sales for a random time series."
   ]
  },
  {
   "cell_type": "markdown",
   "metadata": {
    "id": "4Zd-z4PNmTgg"
   },
   "source": [
    "<ins>Instructions</ins>:<br>\n",
    "- Plot the sNaive predictions against the actual sales for a time series"
   ]
  },
  {
   "cell_type": "code",
   "execution_count": 10,
   "metadata": {
    "colab": {
     "base_uri": "https://localhost:8080/",
     "height": 334
    },
    "id": "yISHVcjqmTgi",
    "outputId": "33b72872-dfb0-4181-b070-33d5e89903ce"
   },
   "outputs": [
    {
     "data": {
      "image/png": "[encoded data removed]",
      "text/plain": [
       "<Figure size 1080x360 with 1 Axes>"
      ]
     },
     "metadata": {
      "needs_background": "light"
     },
     "output_type": "display_data"
    }
   ],
   "source": [
    "plot_pred(snaive_test_df, 'TX_1_FOODS', 'snaive_pred')"
   ]
  },
  {
   "cell_type": "markdown",
   "metadata": {
    "id": "q9djOlvhmTgn"
   },
   "source": [
    "This time round, the sNaive predictions seem much more realistic and is somehow able to follow the oscillations of the actual sales."
   ]
  },
  {
   "cell_type": "markdown",
   "metadata": {
    "id": "tnpPwS1RmTgo"
   },
   "source": [
    "Intuitively, we know that the sNaive method will be a better baseline than the Naive method. But rather than seeing random plots comparing the predictions against actual sales, is there a score that we can use to summarise the model performance?\n",
    "\n",
    "This is what we shall set out to do in the next section below."
   ]
  },
  {
   "cell_type": "markdown",
   "metadata": {
    "id": "f5Cf6PsTmTgq"
   },
   "source": [
    "## Choosing our Metrics"
   ]
  },
  {
   "cell_type": "markdown",
   "metadata": {
    "id": "r_Yf7_VJmTgq"
   },
   "source": [
    "In time series, there are various metrics that we can use to evaluate our models.\n",
    "\n",
    "Based on Prof Rob Hyndman in this [paper](https://robjhyndman.com/papers/foresight.pdf), there are four types of metrics for time series forecasting. In our case, we shall compute Mean Absolute Error (MAE) and Mean Absolute Percentage Error (MAPE) for each time series.\n",
    "\n",
    "In addition, because we have multiple time series, we need to somehow weigh the score for each time series and combine them into a single overall score. In our case, we shall weigh the time series based on the cumulative actual dollar sales, which is computed using the last 28 observations of the training data. This weightage method follows the [M5 competition in Kaggle](https://www.kaggle.com/c/m5-forecasting-accuracy/overview/evaluation). "
   ]
  },
  {
   "cell_type": "markdown",
   "metadata": {
    "id": "h3B-KMwJmTgq"
   },
   "source": [
    "<ins>Instructions</ins>:<br>\n",
    "- Implement a function that given a time series, computes the MAE\n",
    "- Implement a function that given a training and test data, computes the weighted MAE\n",
    "- Implement code to calculate the cross-validated weighted MAE for the Naive and sNaive models respectively. Use 3 splits."
   ]
  },
  {
   "cell_type": "code",
   "execution_count": 11,
   "metadata": {
    "id": "7EGSX_RZmTgu"
   },
   "outputs": [],
   "source": [
    "def compute_mae(training_df, prediction_test_df, y, y_hat, series_id):\n",
    "    \"\"\"\n",
    "    Given a time series ID, compute the MAE for that time series and return the last 28-day training sales\n",
    "    \"\"\"\n",
    "    prediction_test_df_series = prediction_test_df.loc[prediction_test_df.series_id==series_id]\n",
    "    training_df_series = training_df.loc[training_df.series_id==series_id]\n",
    "    training_df_series.sort_values(by='date', ascending=False, inplace=True)\n",
    "    prediction_test_df_series['abs_error'] = (prediction_test_df_series[y_hat] - prediction_test_df_series[y]).abs()\n",
    "    mae = prediction_test_df_series['abs_error'].mean()\n",
    "    total_sales = training_df_series[:28]['sales'].sum()\n",
    "    return mae, total_sales\n",
    "\n",
    "def compute_wmae(training_df, prediction_test_df, y, y_hat):\n",
    "    \"\"\"\n",
    "    Given a training and prediction data, compute the weighted MAE\n",
    "    \"\"\"\n",
    "    series_list = prediction_test_df.series_id.unique()\n",
    "    sales_list = []\n",
    "    mae_list = []\n",
    "    for series in series_list:\n",
    "        mae_series, total_sales_series = compute_mae(training_df, prediction_test_df, y, y_hat, series)\n",
    "        mae_list.append(mae_series)\n",
    "        sales_list.append(total_sales_series)\n",
    "    overall_sales = np.sum(sales_list)\n",
    "    weights_list = [s/overall_sales for s in sales_list]\n",
    "    wmae_list = [a*b for a,b in zip(mae_list, weights_list)]\n",
    "    wmae = np.sum(wmae_list)\n",
    "    return wmae\n"
   ]
  },
  {
   "cell_type": "code",
   "execution_count": 12,
   "metadata": {
    "colab": {
     "base_uri": "https://localhost:8080/"
    },
    "id": "6yqFXJYzmTgz",
    "outputId": "ce4d20ed-fb41-49e1-d59f-03591d561d46"
   },
   "outputs": [
    {
     "name": "stdout",
     "output_type": "stream",
     "text": [
      "The weighted MAE for each of the CV splits is : [1549.1222546964927, 1654.8051652251672, 1369.5453562984808]\n",
      "The cross-validated weighted MAE is 1524.4909254067134\n"
     ]
    }
   ],
   "source": [
    "# computes the cross-validated weighted MAE for the Naive model\n",
    "wmae_list = []\n",
    "cv = 3\n",
    "for i in range(cv):\n",
    "    training_df, _, test_df = get_cv_split(sales_df, i, validation=False)\n",
    "    naive_test_df = naive_predictions(training_df, test_df)\n",
    "    wmae = compute_wmae(training_df, naive_test_df, 'sales', 'naive_pred')\n",
    "    wmae_list.append(wmae)\n",
    "print(f\"The weighted MAE for each of the CV splits is : {wmae_list}\")\n",
    "print(f\"The cross-validated weighted MAE is {np.mean(wmae_list)}\")"
   ]
  },
  {
   "cell_type": "code",
   "execution_count": 13,
   "metadata": {
    "colab": {
     "base_uri": "https://localhost:8080/"
    },
    "id": "igSvNMLRmTgz",
    "outputId": "02ada414-fc01-49f0-b57b-4ff311557348"
   },
   "outputs": [
    {
     "name": "stdout",
     "output_type": "stream",
     "text": [
      "The weighted MAE for each of the CV splits is : [746.9086859014316, 775.20131732263, 994.348306673857]\n",
      "The cross-validated weighted MAE is 838.8194366326394\n"
     ]
    }
   ],
   "source": [
    "# computes the cross-validated weighted MAE for the sNaive model\n",
    "wmae_list = []\n",
    "cv = 3\n",
    "for i in range(cv):\n",
    "    training_df, _, test_df = get_cv_split(sales_df, i, validation=False)\n",
    "    snaive_test_df = snaive_predictions(training_df, test_df)\n",
    "    wmae = compute_wmae(training_df, snaive_test_df, 'sales', 'snaive_pred')\n",
    "    wmae_list.append(wmae)\n",
    "print(f\"The weighted MAE for each of the CV splits is : {wmae_list}\")\n",
    "print(f\"The cross-validated weighted MAE is {np.mean(wmae_list)}\")"
   ]
  },
  {
   "cell_type": "markdown",
   "metadata": {
    "id": "M9B4rgcEmTg0"
   },
   "source": [
    "Based on the 3-split cross-validated weighted MAE, the sNaive method has almost half the weighted MAE of the Naive method."
   ]
  },
  {
   "cell_type": "markdown",
   "metadata": {
    "id": "B6kvCbJImTg1"
   },
   "source": [
    "<ins>Instructions</ins>:<br>\n",
    "Similar to the computation for MAE, we shall now implement the same for MAPE\n",
    "- Implement a function that given a time series, computes the MAPE\n",
    "- Implement a function that given a training and test data, computes the weighted MAPE\n",
    "- Implement code to calculate the cross-validated weighted MAPE for the Naive and sNaive models respectively. Use 3 splits."
   ]
  },
  {
   "cell_type": "code",
   "execution_count": 14,
   "metadata": {
    "id": "T_it-oZxmTg1"
   },
   "outputs": [],
   "source": [
    "def compute_mape(training_df, prediction_test_df, y, y_hat, series_id):\n",
    "    \"\"\"\n",
    "    Given a time series ID, compute the MAPE for that time series and return the last 28-day training sales\n",
    "    \"\"\"\n",
    "    training_df_series = training_df.loc[training_df.series_id==series_id]\n",
    "    training_df_series.sort_values(by='date', ascending=False, inplace=True)\n",
    "    prediction_test_df_series = prediction_test_df.loc[prediction_test_df.series_id==series_id]\n",
    "    prediction_test_df_series['abs_pct_error'] = ((prediction_test_df_series[y] - prediction_test_df_series[y_hat])/prediction_test_df_series[y]).abs()\n",
    "    mape = prediction_test_df_series['abs_pct_error'].mean()\n",
    "    total_sales = training_df_series[:28]['sales'].sum()\n",
    "    return mape, total_sales\n",
    "\n",
    "def compute_wmape(training_df, prediction_test_df, y, y_hat):\n",
    "    \"\"\"\n",
    "    Given a training and prediction data, compute the weighted MAPE\n",
    "    \"\"\"\n",
    "    series_list = prediction_test_df.series_id.unique()\n",
    "    sales_list = []\n",
    "    mape_list = []\n",
    "    for series in series_list:\n",
    "        mape_series, total_sales_series = compute_mape(training_df, prediction_test_df, y, y_hat, series)\n",
    "        mape_list.append(mape_series)\n",
    "        sales_list.append(total_sales_series)\n",
    "    overall_sales = np.sum(sales_list)\n",
    "    weights_list = [s/overall_sales for s in sales_list]\n",
    "    wmape_list = [a*b for a,b in zip(mape_list, weights_list)]\n",
    "    wmape = np.sum(wmape_list)\n",
    "    return wmape"
   ]
  },
  {
   "cell_type": "code",
   "execution_count": 15,
   "metadata": {
    "colab": {
     "base_uri": "https://localhost:8080/"
    },
    "id": "rPsmOzxImTg5",
    "outputId": "456ab432-062f-434e-d8d5-57edeab66375"
   },
   "outputs": [
    {
     "name": "stdout",
     "output_type": "stream",
     "text": [
      "The weighted MAPE for each of the CV splits is : [0.26802494735938304, 0.33430773166159955, 0.28459156674376745]\n",
      "The cross-validated weighted MAPE is 0.2956414152549167\n"
     ]
    }
   ],
   "source": [
    "# computes the cross-validated weighted MAPE for the Naive model\n",
    "wmape_list = []\n",
    "cv = 3\n",
    "for i in range(cv):\n",
    "    training_df, _, test_df = get_cv_split(sales_df, i, validation=False)\n",
    "    naive_test_df = naive_predictions(training_df, test_df)\n",
    "    mape = compute_wmape(training_df, naive_test_df, 'sales', 'naive_pred')\n",
    "    wmape_list.append(mape)\n",
    "print(f\"The weighted MAPE for each of the CV splits is : {wmape_list}\")\n",
    "print(f\"The cross-validated weighted MAPE is {np.mean(wmape_list)}\")"
   ]
  },
  {
   "cell_type": "code",
   "execution_count": 16,
   "metadata": {
    "colab": {
     "base_uri": "https://localhost:8080/"
    },
    "id": "BEuLwmUPmTg8",
    "outputId": "20e2d9f2-9bb8-473a-a518-53a9e8a93432"
   },
   "outputs": [
    {
     "name": "stdout",
     "output_type": "stream",
     "text": [
      "The weighted MAPE for each of the CV splits is : [0.11080820228897773, 0.12949223332186904, 0.18557500839828184]\n",
      "The cross-validated weighted MAPE is 0.1419584813363762\n"
     ]
    }
   ],
   "source": [
    "# computes the cross-validated weighted MAPE for the sNaive model\n",
    "wmape_list = []\n",
    "cv = 3\n",
    "for i in range(cv):\n",
    "    training_df, _, test_df = get_cv_split(sales_df, i, validation=False)\n",
    "    snaive_test_df = snaive_predictions(training_df, test_df)\n",
    "    mape = compute_wmape(training_df, snaive_test_df, 'sales', 'snaive_pred')\n",
    "    wmape_list.append(mape)\n",
    "print(f\"The weighted MAPE for each of the CV splits is : {wmape_list}\")\n",
    "print(f\"The cross-validated weighted MAPE is {np.mean(wmape_list)}\")"
   ]
  },
  {
   "cell_type": "markdown",
   "metadata": {
    "id": "Rtly4zPEmThM"
   },
   "source": [
    "Similar to the conclusions from analysing the MAE, the sNaive model has a lower weighted MAPE than the Naive model. \n",
    "\n",
    "We will therefore use the sNaive method as our baseline."
   ]
  },
  {
   "cell_type": "markdown",
   "metadata": {
    "id": "vJgVNjiumThW"
   },
   "source": [
    "## Forecasting with Facebook Prophet"
   ]
  },
  {
   "cell_type": "markdown",
   "metadata": {
    "id": "zTJyUyBxmThW"
   },
   "source": [
    "Now that we have a baseline reference, let's implement a more sophisticated model for our forecasting.\n",
    "\n",
    "[Facebook Prophet](https://facebook.github.io/prophet/) is an open source software released by Facebook and is used in many applications across Facebook for producing reliable forecasts.\n",
    "\n",
    "We shall use Prophet to implement our model."
   ]
  },
  {
   "cell_type": "markdown",
   "metadata": {
    "id": "X4A438UfmThW"
   },
   "source": [
    "<ins>Instructions</ins>:<br>\n",
    "- Implement a model using Prophet to forecast the next 28 days sales for each time series\n",
    "- Test your model using the first CV split\n",
    "- Plot the Prophet predictions against the actual sales"
   ]
  },
  {
   "cell_type": "code",
   "execution_count": 17,
   "metadata": {
    "id": "0u0BPz6tmThW"
   },
   "outputs": [],
   "source": [
    "def prophet_predictions(training_df, test_df, cv, monthly_seasonality=True, changepoint_prior_scale=0.05, changepoint_range=0.8):\n",
    "    \"\"\"\n",
    "    Train and predict sales using Prophet\n",
    "    \"\"\"\n",
    "    training_df.rename(columns={'sales': 'y', 'date':'ds'}, inplace=True)\n",
    "    series_list = training_df['series_id'].unique()\n",
    "    prophet_pred_list = []\n",
    "    for series in tqdm(series_list, desc=f\"Predicting for cv{cv}:\"):\n",
    "        training_df_series = training_df.loc[training_df.series_id==series]\n",
    "        m = Prophet(yearly_seasonality=False, daily_seasonality=False, \n",
    "                    changepoint_prior_scale=changepoint_prior_scale, changepoint_range=changepoint_range)\n",
    "        if monthly_seasonality:\n",
    "            # add monthly seasonality to model\n",
    "            m.add_seasonality(name='monthly', period=30.5, fourier_order=5)\n",
    "        m.fit(training_df_series)\n",
    "        future = m.make_future_dataframe(periods=28, include_history=False)\n",
    "        forecast = m.predict(future)[['ds', 'yhat']]\n",
    "        forecast['series_id'] = series\n",
    "        prophet_pred_list.append(forecast)\n",
    "    prophet_pred_df = pd.concat(prophet_pred_list)\n",
    "    prophet_pred_df.rename(columns={'ds':'date', 'yhat':'prophet_pred'}, inplace=True)\n",
    "    prophet_test_df = test_df.merge(prophet_pred_df, on=['series_id', 'date'], how='left')\n",
    "    training_df.rename(columns={'ds': 'date', 'y': 'sales'}, inplace=True)\n",
    "    return prophet_test_df"
   ]
  },
  {
   "cell_type": "code",
   "execution_count": 18,
   "metadata": {
    "colab": {
     "base_uri": "https://localhost:8080/",
     "height": 380
    },
    "id": "I4RNwtD5mThW",
    "outputId": "63010d65-784d-4093-e527-e93a4cd8fa2c"
   },
   "outputs": [
    {
     "name": "stderr",
     "output_type": "stream",
     "text": [
      "Predicting for cv0:: 100%|██████████| 30/30 [00:57<00:00,  1.93s/it]"
     ]
    },
    {
     "name": "stdout",
     "output_type": "stream",
     "text": [
      "<class 'pandas.core.frame.DataFrame'>\n",
      "Int64Index: 840 entries, 0 to 839\n",
      "Data columns (total 6 columns):\n",
      " #   Column        Non-Null Count  Dtype         \n",
      "---  ------        --------------  -----         \n",
      " 0   store_id      840 non-null    object        \n",
      " 1   cat_id        840 non-null    object        \n",
      " 2   date          840 non-null    datetime64[ns]\n",
      " 3   sales         840 non-null    float64       \n",
      " 4   series_id     840 non-null    object        \n",
      " 5   prophet_pred  840 non-null    float64       \n",
      "dtypes: datetime64[ns](1), float64(2), object(3)\n",
      "memory usage: 45.9+ KB\n"
     ]
    },
    {
     "name": "stderr",
     "output_type": "stream",
     "text": [
      "\n"
     ]
    },
    {
     "data": {
      "text/html": [
       "<div>\n",
       "<style scoped>\n",
       "    .dataframe tbody tr th:only-of-type {\n",
       "        vertical-align: middle;\n",
       "    }\n",
       "\n",
       "    .dataframe tbody tr th {\n",
       "        vertical-align: top;\n",
       "    }\n",
       "\n",
       "    .dataframe thead th {\n",
       "        text-align: right;\n",
       "    }\n",
       "</style>\n",
       "<table border=\"1\" class=\"dataframe\">\n",
       "  <thead>\n",
       "    <tr style=\"text-align: right;\">\n",
       "      <th></th>\n",
       "      <th>store_id</th>\n",
       "      <th>cat_id</th>\n",
       "      <th>date</th>\n",
       "      <th>sales</th>\n",
       "      <th>series_id</th>\n",
       "      <th>prophet_pred</th>\n",
       "    </tr>\n",
       "  </thead>\n",
       "  <tbody>\n",
       "    <tr>\n",
       "      <th>0</th>\n",
       "      <td>TX_1</td>\n",
       "      <td>FOODS</td>\n",
       "      <td>2016-03-28</td>\n",
       "      <td>4761.47</td>\n",
       "      <td>TX_1_FOODS</td>\n",
       "      <td>4406.284253</td>\n",
       "    </tr>\n",
       "    <tr>\n",
       "      <th>1</th>\n",
       "      <td>TX_1</td>\n",
       "      <td>FOODS</td>\n",
       "      <td>2016-03-29</td>\n",
       "      <td>3878.09</td>\n",
       "      <td>TX_1_FOODS</td>\n",
       "      <td>3955.109517</td>\n",
       "    </tr>\n",
       "    <tr>\n",
       "      <th>2</th>\n",
       "      <td>TX_1</td>\n",
       "      <td>FOODS</td>\n",
       "      <td>2016-03-30</td>\n",
       "      <td>4161.50</td>\n",
       "      <td>TX_1_FOODS</td>\n",
       "      <td>3878.818647</td>\n",
       "    </tr>\n",
       "  </tbody>\n",
       "</table>\n",
       "</div>"
      ],
      "text/plain": [
       "  store_id cat_id       date    sales   series_id  prophet_pred\n",
       "0     TX_1  FOODS 2016-03-28  4761.47  TX_1_FOODS   4406.284253\n",
       "1     TX_1  FOODS 2016-03-29  3878.09  TX_1_FOODS   3955.109517\n",
       "2     TX_1  FOODS 2016-03-30  4161.50  TX_1_FOODS   3878.818647"
      ]
     },
     "execution_count": 18,
     "metadata": {},
     "output_type": "execute_result"
    }
   ],
   "source": [
    "# Run Prophet model for first CV split\n",
    "cv = 0\n",
    "training_df, validation_df, test_df = get_cv_split(sales_df, cv, validation=True)\n",
    "prophet_test_df = prophet_predictions(training_df, validation_df, cv)\n",
    "prophet_test_df.info()\n",
    "prophet_test_df.head(3)"
   ]
  },
  {
   "cell_type": "code",
   "execution_count": 19,
   "metadata": {
    "colab": {
     "base_uri": "https://localhost:8080/",
     "height": 334
    },
    "id": "4LFZ16iVmThW",
    "outputId": "0f60b84f-ad69-47b9-d204-e255c0d59d49"
   },
   "outputs": [
    {
     "data": {
      "image/png": "[encoded data removed]",
      "text/plain": [
       "<Figure size 1080x360 with 1 Axes>"
      ]
     },
     "metadata": {
      "needs_background": "light"
     },
     "output_type": "display_data"
    }
   ],
   "source": [
    "# plot Prophet predictions against actual sales\n",
    "plot_pred(prophet_test_df, 'TX_1_FOODS', 'prophet_pred')"
   ]
  },
  {
   "cell_type": "markdown",
   "metadata": {
    "id": "K4go6KgDmThZ"
   },
   "source": [
    "There are some key [hyperparameters](https://facebook.github.io/prophet/docs/trend_changepoints.html#automatic-changepoint-detection-in-prophet) of the Prophet model that we can tune. In our case, we shall experiment with 2 key hyperparameters:\n",
    "1. changepoint_range\n",
    "2. changepoint_prior_scale\n",
    "\n",
    "Recall the nested walk-forward validation strategy where we will use the validation set to determine our optimal hyperparameters first before fitting the model on both the training and validation set to evaluate on test data.\n",
    "\n",
    "![Walk Forward Validation](https://s3.ap-southeast-1.amazonaws.com/www.jiahao.io/manning/walk_forward_validation.png)"
   ]
  },
  {
   "cell_type": "markdown",
   "metadata": {
    "id": "2d9Z-NwymThZ"
   },
   "source": [
    "<ins>Instructions</ins>:<br>\n",
    "- Setup a function to implement grid search that will return the optimal hyperparameters and the corresponding weighted MAE score. For our hyperparameters, we shall use \n",
    "'changepoint_range': [0.8, 0.9] and\n",
    "'changepoint_prior_scale': [0.05, 0.1, 0.3]."
   ]
  },
  {
   "cell_type": "code",
   "execution_count": 21,
   "metadata": {
    "id": "FwcL2nk1mThZ"
   },
   "outputs": [],
   "source": [
    "def grid_search_prophet(cv=3):\n",
    "    \"\"\"\n",
    "    Implement grid search with the Prophet model and return optimal hyperparameters and weighted MAE\n",
    "    \"\"\"\n",
    "    param_grid = {  \n",
    "    'changepoint_range': [0.8, 0.9],\n",
    "    'changepoint_prior_scale': [0.05, 0.1, 0.3],\n",
    "    }\n",
    "    all_params = [dict(zip(param_grid.keys(), v)) for v in itertools.product(*param_grid.values())]\n",
    "    \n",
    "    best_result = np.inf\n",
    "    best_params = None\n",
    "\n",
    "    for param_set in all_params:\n",
    "        print(f\"Evaluating {param_set}...\")\n",
    "        wmae_list = []\n",
    "        for i in range(cv):\n",
    "            training_df, validation_df, _ = get_cv_split(sales_df, i, validation=True)\n",
    "            prophet_eval_df = prophet_predictions(training_df, validation_df, i, **param_set)\n",
    "            wmae = compute_wmae(training_df, prophet_eval_df, 'sales', 'prophet_pred')\n",
    "            wmae_list.append(wmae)\n",
    "        overall_wmae = np.mean(wmae_list)\n",
    "        print(f\"Weighted MAE for parameters {param_set} is: {overall_wmae}\")\n",
    "        if overall_wmae < best_result:\n",
    "            best_params = param_set\n",
    "            best_result = overall_wmae\n",
    "    print(f\"Best eval result: {best_result} with parameters {best_params}\")\n",
    "    return best_result, best_params"
   ]
  },
  {
   "cell_type": "code",
   "execution_count": 22,
   "metadata": {
    "colab": {
     "base_uri": "https://localhost:8080/"
    },
    "id": "hxHRvyEomThb",
    "outputId": "5065d593-b06e-485f-c1b4-b04634ac2d56"
   },
   "outputs": [
    {
     "name": "stdout",
     "output_type": "stream",
     "text": [
      "Evaluating {'changepoint_range': 0.8, 'changepoint_prior_scale': 0.05}...\n"
     ]
    },
    {
     "name": "stderr",
     "output_type": "stream",
     "text": [
      "Predicting for cv0:: 100%|██████████| 30/30 [00:57<00:00,  1.91s/it]\n",
      "Predicting for cv1:: 100%|██████████| 30/30 [00:54<00:00,  1.81s/it]\n",
      "Predicting for cv2:: 100%|██████████| 30/30 [00:56<00:00,  1.87s/it]\n"
     ]
    },
    {
     "name": "stdout",
     "output_type": "stream",
     "text": [
      "Weighted MAE for parameters {'changepoint_range': 0.8, 'changepoint_prior_scale': 0.05} is: 623.4757419292526\n",
      "Evaluating {'changepoint_range': 0.8, 'changepoint_prior_scale': 0.1}...\n"
     ]
    },
    {
     "name": "stderr",
     "output_type": "stream",
     "text": [
      "Predicting for cv0:: 100%|██████████| 30/30 [01:02<00:00,  2.09s/it]\n",
      "Predicting for cv1:: 100%|██████████| 30/30 [01:00<00:00,  2.02s/it]\n",
      "Predicting for cv2:: 100%|██████████| 30/30 [01:00<00:00,  2.02s/it]\n"
     ]
    },
    {
     "name": "stdout",
     "output_type": "stream",
     "text": [
      "Weighted MAE for parameters {'changepoint_range': 0.8, 'changepoint_prior_scale': 0.1} is: 619.4527582793328\n",
      "Evaluating {'changepoint_range': 0.8, 'changepoint_prior_scale': 0.3}...\n"
     ]
    },
    {
     "name": "stderr",
     "output_type": "stream",
     "text": [
      "Predicting for cv0:: 100%|██████████| 30/30 [01:13<00:00,  2.44s/it]\n",
      "Predicting for cv1:: 100%|██████████| 30/30 [01:13<00:00,  2.44s/it]\n",
      "Predicting for cv2:: 100%|██████████| 30/30 [01:11<00:00,  2.37s/it]\n"
     ]
    },
    {
     "name": "stdout",
     "output_type": "stream",
     "text": [
      "Weighted MAE for parameters {'changepoint_range': 0.8, 'changepoint_prior_scale': 0.3} is: 622.6037148004352\n",
      "Evaluating {'changepoint_range': 0.9, 'changepoint_prior_scale': 0.05}...\n"
     ]
    },
    {
     "name": "stderr",
     "output_type": "stream",
     "text": [
      "Predicting for cv0:: 100%|██████████| 30/30 [00:56<00:00,  1.89s/it]\n",
      "Predicting for cv1:: 100%|██████████| 30/30 [00:56<00:00,  1.89s/it]\n",
      "Predicting for cv2:: 100%|██████████| 30/30 [00:55<00:00,  1.85s/it]\n"
     ]
    },
    {
     "name": "stdout",
     "output_type": "stream",
     "text": [
      "Weighted MAE for parameters {'changepoint_range': 0.9, 'changepoint_prior_scale': 0.05} is: 626.2184251616424\n",
      "Evaluating {'changepoint_range': 0.9, 'changepoint_prior_scale': 0.1}...\n"
     ]
    },
    {
     "name": "stderr",
     "output_type": "stream",
     "text": [
      "Predicting for cv0:: 100%|██████████| 30/30 [01:02<00:00,  2.09s/it]\n",
      "Predicting for cv1:: 100%|██████████| 30/30 [01:01<00:00,  2.05s/it]\n",
      "Predicting for cv2:: 100%|██████████| 30/30 [01:01<00:00,  2.05s/it]\n"
     ]
    },
    {
     "name": "stdout",
     "output_type": "stream",
     "text": [
      "Weighted MAE for parameters {'changepoint_range': 0.9, 'changepoint_prior_scale': 0.1} is: 619.4130382946547\n",
      "Evaluating {'changepoint_range': 0.9, 'changepoint_prior_scale': 0.3}...\n"
     ]
    },
    {
     "name": "stderr",
     "output_type": "stream",
     "text": [
      "Predicting for cv0:: 100%|██████████| 30/30 [01:13<00:00,  2.47s/it]\n",
      "Predicting for cv1:: 100%|██████████| 30/30 [01:10<00:00,  2.35s/it]\n",
      "Predicting for cv2:: 100%|██████████| 30/30 [01:12<00:00,  2.43s/it]"
     ]
    },
    {
     "name": "stdout",
     "output_type": "stream",
     "text": [
      "Weighted MAE for parameters {'changepoint_range': 0.9, 'changepoint_prior_scale': 0.3} is: 625.7748327489066\n",
      "Best eval result: 619.4130382946547 with parameters {'changepoint_range': 0.9, 'changepoint_prior_scale': 0.1}\n"
     ]
    },
    {
     "name": "stderr",
     "output_type": "stream",
     "text": [
      "\n"
     ]
    }
   ],
   "source": [
    "best_result, best_params = grid_search_prophet()"
   ]
  },
  {
   "cell_type": "markdown",
   "metadata": {
    "id": "E_rk_O2bmThc"
   },
   "source": [
    "Great, now we have our optimal hyperparameters. For our last step, we shall evaluate our Prophet model with the optimal hyperparameters. Needless to say, our Prophet model should be better than the sNaive model.\n",
    "\n",
    "Ps: After all the evaluations are done, remember to set predictions on Christmas to 0."
   ]
  },
  {
   "cell_type": "markdown",
   "metadata": {
    "id": "qcB9ckuymThe"
   },
   "source": [
    "<ins>Instructions</ins>:<br>\n",
    "- Compute the 3-split cross-validated weighted MAE and weighted MAPE on the test data\n",
    "- Compare your results against the sNaive baseline results"
   ]
  },
  {
   "cell_type": "code",
   "execution_count": 23,
   "metadata": {
    "colab": {
     "base_uri": "https://localhost:8080/"
    },
    "id": "1iU-2pjYmThf",
    "outputId": "bbcd3b60-c5a4-4c56-d175-806c7fcbe220"
   },
   "outputs": [
    {
     "name": "stderr",
     "output_type": "stream",
     "text": [
      "Predicting for cv0:: 100%|██████████| 30/30 [01:03<00:00,  2.11s/it]\n",
      "Predicting for cv1:: 100%|██████████| 30/30 [01:02<00:00,  2.08s/it]\n",
      "Predicting for cv2:: 100%|██████████| 30/30 [00:59<00:00,  1.99s/it]"
     ]
    },
    {
     "name": "stdout",
     "output_type": "stream",
     "text": [
      "The weighted MAE for each of the CV splits is : [659.9370161412803, 614.2685945627127, 533.0913460579925]\n",
      "The cross-validated weighted MAE is 602.4323189206618\n"
     ]
    },
    {
     "name": "stderr",
     "output_type": "stream",
     "text": [
      "\n"
     ]
    }
   ],
   "source": [
    "# compute weight MAE for Prophet predictions\n",
    "wmae_list = []\n",
    "cv = 3\n",
    "for i in range(cv):\n",
    "    training_df, _, test_df = get_cv_split(sales_df, i, validation=False)\n",
    "    prophet_test_df = prophet_predictions(training_df, test_df, i, **best_params)\n",
    "    wmae = compute_wmae(training_df, prophet_test_df, 'sales', 'prophet_pred')\n",
    "    wmae_list.append(wmae)\n",
    "print(f\"The weighted MAE for each of the CV splits is : {wmae_list}\")\n",
    "print(f\"The cross-validated weighted MAE is {np.mean(wmae_list)}\")"
   ]
  },
  {
   "cell_type": "code",
   "execution_count": 24,
   "metadata": {
    "colab": {
     "base_uri": "https://localhost:8080/"
    },
    "id": "PuSLYK4jmThf",
    "outputId": "5e8a7d66-679b-48cf-e6ae-0482c95a4ec5"
   },
   "outputs": [
    {
     "name": "stderr",
     "output_type": "stream",
     "text": [
      "Predicting for cv0:: 100%|██████████| 30/30 [01:03<00:00,  2.11s/it]\n",
      "Predicting for cv1:: 100%|██████████| 30/30 [01:02<00:00,  2.09s/it]\n",
      "Predicting for cv2:: 100%|██████████| 30/30 [00:59<00:00,  1.99s/it]"
     ]
    },
    {
     "name": "stdout",
     "output_type": "stream",
     "text": [
      "The weighted MAPE for each of the CV splits is : [0.09923975408961833, 0.10788393047350893, 0.10227516373854928]\n",
      "The cross-validated weighted MAPE is 0.10313294943389217\n"
     ]
    },
    {
     "name": "stderr",
     "output_type": "stream",
     "text": [
      "\n"
     ]
    }
   ],
   "source": [
    "# compute weight MAPE for Prophet predictions\n",
    "wmape_list = []\n",
    "cv = 3\n",
    "for i in range(cv):\n",
    "    training_df, _, test_df = get_cv_split(sales_df, i, validation=False)\n",
    "    prophet_test_df = prophet_predictions(training_df, test_df, i, **best_params)\n",
    "    wmape = compute_wmape(training_df, prophet_test_df, 'sales', 'prophet_pred')\n",
    "    wmape_list.append(wmape)\n",
    "print(f\"The weighted MAPE for each of the CV splits is : {wmape_list}\")\n",
    "print(f\"The cross-validated weighted MAPE is {np.mean(wmape_list)}\")"
   ]
  },
  {
   "cell_type": "markdown",
   "metadata": {
    "id": "nEdKyj7vmThg"
   },
   "source": [
    "## Conclusion"
   ]
  },
  {
   "cell_type": "markdown",
   "metadata": {
    "id": "0ziOpDCOmThg"
   },
   "source": [
    "From part 1 to 3, we:\n",
    "- Processed and cleaned a time series data\n",
    "- Analysed time series and determine seasonality\n",
    "- Implemented train-test split on time series data using nested walk-forward validation\n",
    "- Established baseline models and optimize Prophet model\n",
    "- Evaluated various models using weighted MAE and MAPE"
   ]
  }
 ],
 "metadata": {
  "colab": {
   "collapsed_sections": [],
   "name": "Prepare_and_Analyze_Time_Series_Milestone_3_Solution.ipynb",
   "provenance": []
  },
  "interpreter": {
   "hash": "b7bc2e76cbe5fb8595f4ba211d5aadd6fa3b8e13e3681bdb0f26937058245569"
  },
  "kernelspec": {
   "display_name": "Python 3 (ipykernel)",
   "language": "python",
   "name": "python3"
  },
  "language_info": {
   "codemirror_mode": {
    "name": "ipython",
    "version": 3
   },
   "file_extension": ".py",
   "mimetype": "text/x-python",
   "name": "python",
   "nbconvert_exporter": "python",
   "pygments_lexer": "ipython3",
   "version": "3.9.7"
  }
 },
 "nbformat": 4,
 "nbformat_minor": 4
}
